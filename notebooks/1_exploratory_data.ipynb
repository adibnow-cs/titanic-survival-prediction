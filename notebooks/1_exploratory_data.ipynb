{
 "cells": [
  {
   "cell_type": "code",
   "execution_count": 14,
   "metadata": {},
   "outputs": [],
   "source": [
    "import pandas as pd\n",
    "import seaborn as sns\n",
    "import matplotlib.pyplot as plt"
   ]
  },
  {
   "cell_type": "code",
   "execution_count": null,
   "metadata": {},
   "outputs": [
    {
     "name": "stdout",
     "output_type": "stream",
     "text": [
      "   PassengerId  Survived  Pclass  \\\n",
      "0            1         0       3   \n",
      "1            2         1       1   \n",
      "2            3         1       3   \n",
      "3            4         1       1   \n",
      "4            5         0       3   \n",
      "\n",
      "                                                Name     Sex   Age  SibSp  \\\n",
      "0                            Braund, Mr. Owen Harris    male  22.0      1   \n",
      "1  Cumings, Mrs. John Bradley (Florence Briggs Th...  female  38.0      1   \n",
      "2                             Heikkinen, Miss. Laina  female  26.0      0   \n",
      "3       Futrelle, Mrs. Jacques Heath (Lily May Peel)  female  35.0      1   \n",
      "4                           Allen, Mr. William Henry    male  35.0      0   \n",
      "\n",
      "   Parch            Ticket     Fare Cabin Embarked  \n",
      "0      0         A/5 21171   7.2500   NaN        S  \n",
      "1      0          PC 17599  71.2833   C85        C  \n",
      "2      0  STON/O2. 3101282   7.9250   NaN        S  \n",
      "3      0            113803  53.1000  C123        S  \n",
      "4      0            373450   8.0500   NaN        S  \n"
     ]
    }
   ],
   "source": [
    "train_df = pd.read_csv('../data/train.csv')\n",
    "print(train_df.head())"
   ]
  },
  {
   "cell_type": "code",
   "execution_count": 17,
   "metadata": {},
   "outputs": [
    {
     "name": "stdout",
     "output_type": "stream",
     "text": [
      "Columns: Index(['PassengerId', 'Survived', 'Pclass', 'Name', 'Sex', 'Age', 'SibSp',\n",
      "       'Parch', 'Ticket', 'Fare', 'Cabin', 'Embarked'],\n",
      "      dtype='object')\n"
     ]
    }
   ],
   "source": [
    "print(\"Columns:\",train_df.columns)"
   ]
  },
  {
   "cell_type": "markdown",
   "metadata": {},
   "source": [
    "### Questions worth asking from the dataset\n",
    "\n",
    "* what do the survived passengers have in common ( specific category ) ?\n",
    "* influence of class\n",
    "* influence of sex\n",
    "* influence of age + do children with no parch still get priority and how much ?  \n",
    "* influence of sibsp , do they get more preference because its a family + parch ? or more for single individuals?\n",
    "* was there a fare below which passengers didnt survive?\n",
    "*  which embarkment had the most surivors ? "
   ]
  },
  {
   "cell_type": "markdown",
   "metadata": {},
   "source": [
    "### Some real life statistics that can help us drive to some questions \n",
    "\n",
    "\n",
    "37% – the percentage of passengers who survived.\n",
    "* we can check the number people who survived in the dataset\n",
    "* any outliers/anomalies that showcase a majority or pattern\n",
    "\n",
    "\n",
    "37% – the percentage of passengers who survived.\n",
    "* Find what is order of survival for each category such as Class ,children ,sex etc.\n",
    "* was it easier for class 2 ticketholders to escape or was their fate similar to that of class 3.\n",
    "* if survival for class 2 > class 3, how much and also find a measure to score/standardize it . \n"
   ]
  },
  {
   "cell_type": "markdown",
   "metadata": {},
   "source": [
    "### Interesting Insights to Look For\n",
    "\n",
    "Were women more likely to survive?\n",
    "\n",
    "Was survival influenced by passenger class?\n",
    "\n",
    "Did younger passengers have better survival rates?\n",
    "\n",
    "Did family size matter?\n",
    "\n",
    "Any insights from cabin/deck data?"
   ]
  },
  {
   "cell_type": "markdown",
   "metadata": {},
   "source": [
    "#### Data types and non-nulls"
   ]
  },
  {
   "cell_type": "code",
   "execution_count": 8,
   "metadata": {},
   "outputs": [
    {
     "name": "stdout",
     "output_type": "stream",
     "text": [
      "<class 'pandas.core.frame.DataFrame'>\n",
      "RangeIndex: 891 entries, 0 to 890\n",
      "Data columns (total 12 columns):\n",
      " #   Column       Non-Null Count  Dtype  \n",
      "---  ------       --------------  -----  \n",
      " 0   PassengerId  891 non-null    int64  \n",
      " 1   Survived     891 non-null    int64  \n",
      " 2   Pclass       891 non-null    int64  \n",
      " 3   Name         891 non-null    object \n",
      " 4   Sex          891 non-null    object \n",
      " 5   Age          714 non-null    float64\n",
      " 6   SibSp        891 non-null    int64  \n",
      " 7   Parch        891 non-null    int64  \n",
      " 8   Ticket       891 non-null    object \n",
      " 9   Fare         891 non-null    float64\n",
      " 10  Cabin        204 non-null    object \n",
      " 11  Embarked     889 non-null    object \n",
      "dtypes: float64(2), int64(5), object(5)\n",
      "memory usage: 83.7+ KB\n",
      "None\n"
     ]
    }
   ],
   "source": [
    "print(train_df.info())"
   ]
  },
  {
   "cell_type": "markdown",
   "metadata": {},
   "source": [
    "### Descriptions"
   ]
  },
  {
   "cell_type": "code",
   "execution_count": 12,
   "metadata": {},
   "outputs": [
    {
     "name": "stdout",
     "output_type": "stream",
     "text": [
      "       PassengerId    Survived      Pclass         Age       SibSp  \\\n",
      "count   891.000000  891.000000  891.000000  714.000000  891.000000   \n",
      "mean    446.000000    0.383838    2.308642   29.699118    0.523008   \n",
      "std     257.353842    0.486592    0.836071   14.526497    1.102743   \n",
      "min       1.000000    0.000000    1.000000    0.420000    0.000000   \n",
      "25%     223.500000    0.000000    2.000000   20.125000    0.000000   \n",
      "50%     446.000000    0.000000    3.000000   28.000000    0.000000   \n",
      "75%     668.500000    1.000000    3.000000   38.000000    1.000000   \n",
      "max     891.000000    1.000000    3.000000   80.000000    8.000000   \n",
      "\n",
      "            Parch        Fare  \n",
      "count  891.000000  891.000000  \n",
      "mean     0.381594   32.204208  \n",
      "std      0.806057   49.693429  \n",
      "min      0.000000    0.000000  \n",
      "25%      0.000000    7.910400  \n",
      "50%      0.000000   14.454200  \n",
      "75%      0.000000   31.000000  \n",
      "max      6.000000  512.329200  \n"
     ]
    }
   ],
   "source": [
    "print(train_df.describe())"
   ]
  },
  {
   "cell_type": "markdown",
   "metadata": {},
   "source": [
    "### Count of unique values"
   ]
  },
  {
   "cell_type": "code",
   "execution_count": 11,
   "metadata": {},
   "outputs": [
    {
     "name": "stdout",
     "output_type": "stream",
     "text": [
      "PassengerId    891\n",
      "Survived         2\n",
      "Pclass           3\n",
      "Name           891\n",
      "Sex              2\n",
      "Age             88\n",
      "SibSp            7\n",
      "Parch            7\n",
      "Ticket         681\n",
      "Fare           248\n",
      "Cabin          147\n",
      "Embarked         3\n",
      "dtype: int64\n"
     ]
    }
   ],
   "source": [
    "print(train_df.nunique())"
   ]
  },
  {
   "cell_type": "markdown",
   "metadata": {},
   "source": [
    "### Null values count\n"
   ]
  },
  {
   "cell_type": "code",
   "execution_count": 59,
   "metadata": {},
   "outputs": [
    {
     "name": "stdout",
     "output_type": "stream",
     "text": [
      "PassengerId      0\n",
      "Survived         0\n",
      "Pclass           0\n",
      "Name             0\n",
      "Sex              0\n",
      "Age            177\n",
      "SibSp            0\n",
      "Parch            0\n",
      "Ticket           0\n",
      "Fare             0\n",
      "Cabin          687\n",
      "Embarked         2\n",
      "Child            0\n",
      "AgeGroup       177\n",
      "FareGroup       15\n",
      "dtype: int64\n"
     ]
    }
   ],
   "source": [
    "print(train_df.isnull().sum())"
   ]
  },
  {
   "cell_type": "markdown",
   "metadata": {},
   "source": [
    "## Significance of each category/feature"
   ]
  },
  {
   "cell_type": "code",
   "execution_count": 56,
   "metadata": {},
   "outputs": [
    {
     "name": "stdout",
     "output_type": "stream",
     "text": [
      "Survival Rate: 38.38%\n"
     ]
    }
   ],
   "source": [
    "survival_percentage = train_df['Survived'].mean() * 100\n",
    "print(f\"Survival Rate: {survival_percentage:.2f}%\")"
   ]
  },
  {
   "cell_type": "markdown",
   "metadata": {},
   "source": [
    "what do the survived passengers have in common ( specific category ) ?"
   ]
  },
  {
   "cell_type": "code",
   "execution_count": 32,
   "metadata": {},
   "outputs": [
    {
     "name": "stdout",
     "output_type": "stream",
     "text": [
      "   PassengerId  Survived  Pclass  \\\n",
      "1            2         1       1   \n",
      "2            3         1       3   \n",
      "3            4         1       1   \n",
      "8            9         1       3   \n",
      "9           10         1       2   \n",
      "\n",
      "                                                Name     Sex   Age  SibSp  \\\n",
      "1  Cumings, Mrs. John Bradley (Florence Briggs Th...  female  38.0      1   \n",
      "2                             Heikkinen, Miss. Laina  female  26.0      0   \n",
      "3       Futrelle, Mrs. Jacques Heath (Lily May Peel)  female  35.0      1   \n",
      "8  Johnson, Mrs. Oscar W (Elisabeth Vilhelmina Berg)  female  27.0      0   \n",
      "9                Nasser, Mrs. Nicholas (Adele Achem)  female  14.0      1   \n",
      "\n",
      "   Parch            Ticket     Fare Cabin Embarked  \n",
      "1      0          PC 17599  71.2833   C85        C  \n",
      "2      0  STON/O2. 3101282   7.9250   NaN        S  \n",
      "3      0            113803  53.1000  C123        S  \n",
      "8      2            347742  11.1333   NaN        S  \n",
      "9      0            237736  30.0708   NaN        C  \n"
     ]
    }
   ],
   "source": [
    "survived_df = train_df[train_df['Survived'] == 1]\n",
    "print(survived_df.head())"
   ]
  },
  {
   "cell_type": "markdown",
   "metadata": {},
   "source": [
    "#### Influence of Class"
   ]
  },
  {
   "cell_type": "code",
   "execution_count": 34,
   "metadata": {},
   "outputs": [
    {
     "name": "stdout",
     "output_type": "stream",
     "text": [
      "Pclass\n",
      "1    0.629630\n",
      "2    0.472826\n",
      "3    0.242363\n",
      "Name: Survived, dtype: float64\n"
     ]
    }
   ],
   "source": [
    "print(train_df.groupby('Pclass')['Survived'].mean())"
   ]
  },
  {
   "cell_type": "markdown",
   "metadata": {},
   "source": [
    "what percentage of first class passengers survived?\n",
    "* Class 1: 62.96% survived from their class"
   ]
  },
  {
   "cell_type": "markdown",
   "metadata": {},
   "source": [
    "what percentage of second class passengers survived?\n",
    "* Class 2: 47.28% survived from their class"
   ]
  },
  {
   "cell_type": "markdown",
   "metadata": {},
   "source": [
    "what percentage of third  class passengers survived?\n",
    "* Class 3: 24.24% survived from their class"
   ]
  },
  {
   "cell_type": "markdown",
   "metadata": {},
   "source": [
    "#### Influence of sex"
   ]
  },
  {
   "cell_type": "code",
   "execution_count": 33,
   "metadata": {},
   "outputs": [
    {
     "name": "stdout",
     "output_type": "stream",
     "text": [
      "Sex\n",
      "female    0.742038\n",
      "male      0.188908\n",
      "Name: Survived, dtype: float64\n"
     ]
    }
   ],
   "source": [
    "print(train_df.groupby('Sex')['Survived'].mean())"
   ]
  },
  {
   "cell_type": "markdown",
   "metadata": {},
   "source": [
    "* Female : 74.20% females survived\n",
    "* Male :  18.88% male survived"
   ]
  },
  {
   "cell_type": "markdown",
   "metadata": {},
   "source": [
    "#### Influence of age"
   ]
  },
  {
   "cell_type": "code",
   "execution_count": null,
   "metadata": {},
   "outputs": [
    {
     "name": "stdout",
     "output_type": "stream",
     "text": [
      "AgeGroup\n",
      "Child          57.971014\n",
      "Teen           42.857143\n",
      "Young Adult    35.555556\n",
      "Adult          42.574257\n",
      "Middle-aged    40.740741\n",
      "Senior         22.727273\n",
      "Name: Survived, dtype: float64\n"
     ]
    },
    {
     "name": "stderr",
     "output_type": "stream",
     "text": [
      "C:\\Users\\adi17\\AppData\\Local\\Temp\\ipykernel_19104\\2275719348.py:7: FutureWarning: The default of observed=False is deprecated and will be changed to True in a future version of pandas. Pass observed=False to retain current behavior or observed=True to adopt the future default and silence this warning.\n",
      "  agegroup_survival = train_df.groupby('AgeGroup')['Survived'].mean() * 100\n"
     ]
    }
   ],
   "source": [
    "age_bins = [0, 12, 18, 30, 45, 60, 80]\n",
    "labels = ['Child', 'Teen', 'Young Adult', 'Adult', 'Middle-aged', 'Senior']\n",
    "train_df['AgeGroup'] = pd.cut(train_df['Age'], bins=age_bins, labels=labels)\n",
    "\n",
    "# Survival rate by age group\n",
    "agegroup_survival = train_df.groupby('AgeGroup')['Survived'].mean() * 100\n",
    "print(agegroup_survival)\n",
    "\n"
   ]
  },
  {
   "cell_type": "markdown",
   "metadata": {},
   "source": [
    "#### Influence of SibSp"
   ]
  },
  {
   "cell_type": "code",
   "execution_count": null,
   "metadata": {},
   "outputs": [
    {
     "name": "stdout",
     "output_type": "stream",
     "text": [
      "       Survival Rate  Passenger Count\n",
      "SibSp                                \n",
      "1           0.535885              209\n",
      "2           0.464286               28\n",
      "0           0.345395              608\n",
      "3           0.250000               16\n",
      "4           0.166667               18\n",
      "5           0.000000                5\n",
      "8           0.000000                7\n"
     ]
    }
   ],
   "source": [
    "sibsp_survival = train_df.groupby('SibSp')['Survived'].agg(['mean', 'count']).sort_values(by='mean', ascending=False)\n",
    "sibsp_survival.columns = ['Survival Rate', 'Passenger Count']\n",
    "print(sibsp_survival)\n"
   ]
  },
  {
   "cell_type": "markdown",
   "metadata": {},
   "source": [
    "#### Fare\n",
    "* was there a fare below which passengers didnt survive?"
   ]
  },
  {
   "cell_type": "code",
   "execution_count": null,
   "metadata": {},
   "outputs": [
    {
     "name": "stdout",
     "output_type": "stream",
     "text": [
      "          count       mean        std  min      25%   50%   75%       max\n",
      "Survived                                                                 \n",
      "0         549.0  22.117887  31.388207  0.0   7.8542  10.5  26.0  263.0000\n",
      "1         342.0  48.395408  66.596998  0.0  12.4750  26.0  57.0  512.3292\n"
     ]
    }
   ],
   "source": [
    "print(train_df.groupby('Survived')['Fare'].describe())"
   ]
  },
  {
   "cell_type": "markdown",
   "metadata": {},
   "source": [
    "* Survivors paid more for their tickets"
   ]
  },
  {
   "cell_type": "markdown",
   "metadata": {},
   "source": [
    "### Cabin"
   ]
  },
  {
   "cell_type": "markdown",
   "metadata": {},
   "source": [
    "Cabin had 687 missing values , but there is a possibility that it shows individuals with a cabin or not,"
   ]
  },
  {
   "cell_type": "code",
   "execution_count": 71,
   "metadata": {},
   "outputs": [
    {
     "data": {
      "text/plain": [
       "np.float64(77.10437710437711)"
      ]
     },
     "execution_count": 71,
     "metadata": {},
     "output_type": "execute_result"
    }
   ],
   "source": [
    "train_df['Cabin'].isnull().mean() * 100"
   ]
  },
  {
   "cell_type": "markdown",
   "metadata": {},
   "source": [
    "more than 77% of passengers dont have assigned cabin"
   ]
  },
  {
   "cell_type": "code",
   "execution_count": 87,
   "metadata": {},
   "outputs": [
    {
     "name": "stdout",
     "output_type": "stream",
     "text": [
      "HasCabin\n",
      "0    0.299854\n",
      "1    0.666667\n",
      "Name: Survived, dtype: float64\n"
     ]
    }
   ],
   "source": [
    "train_df['HasCabin'] = train_df['Cabin'].notnull().astype(int)\n",
    "print(train_df.groupby('HasCabin')['Survived'].mean())\n"
   ]
  },
  {
   "cell_type": "markdown",
   "metadata": {},
   "source": [
    "almost 69 % individuals who survived had a cabin"
   ]
  },
  {
   "cell_type": "code",
   "execution_count": 73,
   "metadata": {},
   "outputs": [
    {
     "name": "stdout",
     "output_type": "stream",
     "text": [
      "Pclass\n",
      "1     5.822416\n",
      "2    24.454148\n",
      "3    69.723435\n",
      "Name: proportion, dtype: float64\n"
     ]
    }
   ],
   "source": [
    "missing_cabin_percent = train_df[train_df['HasCabin'] == 0]['Pclass'].value_counts(normalize=True).sort_index() * 100\n",
    "print(missing_cabin_percent)\n"
   ]
  },
  {
   "cell_type": "code",
   "execution_count": 94,
   "metadata": {},
   "outputs": [],
   "source": [
    "train_df['CabinLetter'] = train_df['Cabin'].astype(str).str[0]\n"
   ]
  },
  {
   "cell_type": "code",
   "execution_count": 75,
   "metadata": {},
   "outputs": [
    {
     "name": "stdout",
     "output_type": "stream",
     "text": [
      "CabinLetter\n",
      "D    0.757576\n",
      "E    0.750000\n",
      "B    0.744681\n",
      "F    0.615385\n",
      "C    0.593220\n",
      "G    0.500000\n",
      "A    0.466667\n",
      "n    0.299854\n",
      "T    0.000000\n",
      "Name: Survived, dtype: float64\n"
     ]
    }
   ],
   "source": [
    "print(train_df.groupby('CabinLetter')['Survived'].mean().sort_values(ascending=False))\n"
   ]
  },
  {
   "cell_type": "markdown",
   "metadata": {},
   "source": [
    "#### Embarkment"
   ]
  },
  {
   "cell_type": "markdown",
   "metadata": {},
   "source": [
    "*  which embarkment had the most survivors ? "
   ]
  },
  {
   "cell_type": "code",
   "execution_count": 54,
   "metadata": {},
   "outputs": [
    {
     "name": "stdout",
     "output_type": "stream",
     "text": [
      "Embarked\n",
      "C    55.357143\n",
      "Q    38.961039\n",
      "S    33.695652\n",
      "Name: Survived, dtype: float64\n"
     ]
    }
   ],
   "source": [
    "embarkment_survival_rate = train_df.groupby('Embarked')['Survived'].mean() * 100\n",
    "print(embarkment_survival_rate.sort_values(ascending=False))\n"
   ]
  },
  {
   "cell_type": "markdown",
   "metadata": {},
   "source": [
    "### Correlation between all features"
   ]
  },
  {
   "cell_type": "code",
   "execution_count": 101,
   "metadata": {},
   "outputs": [],
   "source": [
    "numeric_df = train_df.select_dtypes(include=['int64', 'float64'])"
   ]
  },
  {
   "cell_type": "code",
   "execution_count": 105,
   "metadata": {},
   "outputs": [],
   "source": [
    "train_df['Sex_encoded'] = train_df['Sex'].map({'male': 0, 'female': 1})\n",
    "train_df['Embarked_encoded'] = train_df['Embarked'].map({'S': 0, 'C': 1, 'Q': 2})\n"
   ]
  },
  {
   "cell_type": "code",
   "execution_count": 106,
   "metadata": {},
   "outputs": [
    {
     "data": {
      "image/png": "[encoded data removed]",
      "text/plain": [
       "<Figure size 640x480 with 2 Axes>"
      ]
     },
     "metadata": {},
     "output_type": "display_data"
    }
   ],
   "source": [
    "# Then add to numeric features\n",
    "correlation_matrix = train_df[['Survived', 'Pclass', 'Age', 'SibSp', 'Parch', 'Fare', 'Sex_encoded', 'Embarked_encoded']].corr()\n",
    "\n",
    "sns.heatmap(correlation_matrix, annot=True, cmap='coolwarm', fmt=\".2f\")\n",
    "plt.title('Correlation Matrix with Encoded Features')\n",
    "plt.show()\n"
   ]
  },
  {
   "cell_type": "markdown",
   "metadata": {},
   "source": [
    "1. Sex is the most important feature: Strong correlation (0.54)\n",
    "2. Pclass matters a lot: -0.34 correlation with survival.Thus,lower class has lower survival chances.\n",
    "3. Fare is important too :  Those who paid more for their ticket had higher survival rates."
   ]
  },
  {
   "cell_type": "markdown",
   "metadata": {},
   "source": [
    "However there is a possibility that two features combined might have higher correlation"
   ]
  },
  {
   "cell_type": "markdown",
   "metadata": {},
   "source": [
    "## Significance of 2  category/features"
   ]
  },
  {
   "cell_type": "markdown",
   "metadata": {},
   "source": [
    "### Class and other features"
   ]
  },
  {
   "cell_type": "markdown",
   "metadata": {},
   "source": [
    "Class and  Sex "
   ]
  },
  {
   "cell_type": "code",
   "execution_count": 100,
   "metadata": {},
   "outputs": [
    {
     "name": "stdout",
     "output_type": "stream",
     "text": [
      "Pclass  Sex   \n",
      "1       female    96.808511\n",
      "        male      36.885246\n",
      "2       female    92.105263\n",
      "        male      15.740741\n",
      "3       female    50.000000\n",
      "        male      13.544669\n",
      "Name: Survived, dtype: float64\n"
     ]
    }
   ],
   "source": [
    "print(train_df.groupby(['Pclass', 'Sex'])['Survived'].mean() * 100)\n",
    "\n"
   ]
  },
  {
   "cell_type": "markdown",
   "metadata": {},
   "source": [
    "Class vs Age"
   ]
  },
  {
   "cell_type": "code",
   "execution_count": 89,
   "metadata": {},
   "outputs": [
    {
     "name": "stdout",
     "output_type": "stream",
     "text": [
      "Pclass  AgeGroup   \n",
      "1       Child           75.000000\n",
      "        Teen            91.666667\n",
      "        Young Adult     71.111111\n",
      "        Adult           73.015873\n",
      "        Middle-aged     56.250000\n",
      "        Senior          21.428571\n",
      "2       Child          100.000000\n",
      "        Teen            50.000000\n",
      "        Young Adult     41.791045\n",
      "        Adult           46.296296\n",
      "        Middle-aged     30.000000\n",
      "        Senior          33.333333\n",
      "3       Child           41.666667\n",
      "        Teen            28.260870\n",
      "        Young Adult     22.784810\n",
      "        Adult           17.647059\n",
      "        Middle-aged      0.000000\n",
      "        Senior          20.000000\n",
      "Name: Survived, dtype: float64\n"
     ]
    },
    {
     "name": "stderr",
     "output_type": "stream",
     "text": [
      "C:\\Users\\adi17\\AppData\\Local\\Temp\\ipykernel_19104\\3609934545.py:1: FutureWarning: The default of observed=False is deprecated and will be changed to True in a future version of pandas. Pass observed=False to retain current behavior or observed=True to adopt the future default and silence this warning.\n",
      "  print(train_df.groupby(['Pclass', 'AgeGroup'])['Survived'].mean() * 100)\n"
     ]
    }
   ],
   "source": [
    "print(train_df.groupby(['Pclass', 'AgeGroup'])['Survived'].mean() * 100)\n"
   ]
  },
  {
   "cell_type": "markdown",
   "metadata": {},
   "source": [
    "Class vs SibSp"
   ]
  },
  {
   "cell_type": "code",
   "execution_count": 90,
   "metadata": {},
   "outputs": [
    {
     "name": "stdout",
     "output_type": "stream",
     "text": [
      "Pclass  SibSp\n",
      "1       0         56.204380\n",
      "        1         74.647887\n",
      "        2         80.000000\n",
      "        3         66.666667\n",
      "2       0         41.666667\n",
      "        1         58.181818\n",
      "        2         50.000000\n",
      "        3        100.000000\n",
      "3       0         23.646724\n",
      "        1         32.530120\n",
      "        2         33.333333\n",
      "        3          8.333333\n",
      "        4         16.666667\n",
      "        5          0.000000\n",
      "        8          0.000000\n",
      "Name: Survived, dtype: float64\n"
     ]
    }
   ],
   "source": [
    "print(train_df.groupby(['Pclass', 'SibSp'])['Survived'].mean() * 100)"
   ]
  },
  {
   "cell_type": "markdown",
   "metadata": {},
   "source": [
    "Class vs Parch"
   ]
  },
  {
   "cell_type": "code",
   "execution_count": 91,
   "metadata": {},
   "outputs": [
    {
     "name": "stdout",
     "output_type": "stream",
     "text": [
      "Pclass  Parch\n",
      "1       0         60.736196\n",
      "        1         67.741935\n",
      "        2         76.190476\n",
      "        4          0.000000\n",
      "2       0         35.820896\n",
      "        1         75.000000\n",
      "        2         81.250000\n",
      "        3        100.000000\n",
      "3       0         22.572178\n",
      "        1         36.363636\n",
      "        2         25.581395\n",
      "        3         33.333333\n",
      "        4          0.000000\n",
      "        5         20.000000\n",
      "        6          0.000000\n",
      "Name: Survived, dtype: float64\n"
     ]
    }
   ],
   "source": [
    "print(train_df.groupby(['Pclass', 'Parch'])['Survived'].mean() * 100)"
   ]
  },
  {
   "cell_type": "markdown",
   "metadata": {},
   "source": [
    "Class vs Fare"
   ]
  },
  {
   "cell_type": "code",
   "execution_count": 92,
   "metadata": {},
   "outputs": [
    {
     "name": "stdout",
     "output_type": "stream",
     "text": [
      "Pclass  FareGroup\n",
      "1       <10           0.000000\n",
      "        10-20              NaN\n",
      "        20-50        47.887324\n",
      "        50-100       73.255814\n",
      "        100-250      72.727273\n",
      "        250+         77.777778\n",
      "2       <10                NaN\n",
      "        10-20        42.857143\n",
      "        20-50        58.904110\n",
      "        50-100       28.571429\n",
      "        100-250            NaN\n",
      "        250+               NaN\n",
      "3       <10          20.625000\n",
      "        10-20        41.975309\n",
      "        20-50        18.055556\n",
      "        50-100       35.714286\n",
      "        100-250            NaN\n",
      "        250+               NaN\n",
      "Name: Survived, dtype: float64\n"
     ]
    },
    {
     "name": "stderr",
     "output_type": "stream",
     "text": [
      "C:\\Users\\adi17\\AppData\\Local\\Temp\\ipykernel_19104\\2071933142.py:1: FutureWarning: The default of observed=False is deprecated and will be changed to True in a future version of pandas. Pass observed=False to retain current behavior or observed=True to adopt the future default and silence this warning.\n",
      "  print(train_df.groupby(['Pclass', 'FareGroup'])['Survived'].mean() * 100)\n"
     ]
    }
   ],
   "source": [
    "print(train_df.groupby(['Pclass', 'FareGroup'])['Survived'].mean() * 100)"
   ]
  },
  {
   "cell_type": "markdown",
   "metadata": {},
   "source": [
    "Class vs Cabin"
   ]
  },
  {
   "cell_type": "code",
   "execution_count": 95,
   "metadata": {},
   "outputs": [
    {
     "name": "stdout",
     "output_type": "stream",
     "text": [
      "Pclass  CabinLetter\n",
      "1       A               46.666667\n",
      "        B               74.468085\n",
      "        C               59.322034\n",
      "        D               75.862069\n",
      "        E               72.000000\n",
      "        T                0.000000\n",
      "        n               47.500000\n",
      "2       D               75.000000\n",
      "        E               75.000000\n",
      "        F               87.500000\n",
      "        n               44.047619\n",
      "3       E              100.000000\n",
      "        F               20.000000\n",
      "        G               50.000000\n",
      "        n               23.590814\n",
      "Name: Survived, dtype: float64\n"
     ]
    }
   ],
   "source": [
    "print(train_df.groupby(['Pclass', 'CabinLetter'])['Survived'].mean() * 100)"
   ]
  },
  {
   "cell_type": "markdown",
   "metadata": {},
   "source": [
    "Class vs Embarked"
   ]
  },
  {
   "cell_type": "code",
   "execution_count": 97,
   "metadata": {},
   "outputs": [
    {
     "name": "stdout",
     "output_type": "stream",
     "text": [
      "Pclass  Embarked\n",
      "1       C           69.411765\n",
      "        Q           50.000000\n",
      "        S           58.267717\n",
      "2       C           52.941176\n",
      "        Q           66.666667\n",
      "        S           46.341463\n",
      "3       C           37.878788\n",
      "        Q           37.500000\n",
      "        S           18.980170\n",
      "Name: Survived, dtype: float64\n"
     ]
    }
   ],
   "source": [
    "print(train_df.groupby(['Pclass', 'Embarked'])['Survived'].mean() * 100)"
   ]
  },
  {
   "cell_type": "markdown",
   "metadata": {},
   "source": [
    "### Sex and other features"
   ]
  },
  {
   "cell_type": "markdown",
   "metadata": {},
   "source": [
    "Sex v Age"
   ]
  },
  {
   "cell_type": "code",
   "execution_count": 107,
   "metadata": {},
   "outputs": [
    {
     "name": "stdout",
     "output_type": "stream",
     "text": [
      "Sex     AgeGroup   \n",
      "female  Child           59.375000\n",
      "        Teen            75.000000\n",
      "        Young Adult     75.555556\n",
      "        Adult           78.082192\n",
      "        Middle-aged     85.185185\n",
      "        Senior         100.000000\n",
      "male    Child           56.756757\n",
      "        Teen             8.823529\n",
      "        Young Adult     15.555556\n",
      "        Adult           22.480620\n",
      "        Middle-aged     18.518519\n",
      "        Senior          10.526316\n",
      "Name: Survived, dtype: float64\n"
     ]
    },
    {
     "name": "stderr",
     "output_type": "stream",
     "text": [
      "C:\\Users\\adi17\\AppData\\Local\\Temp\\ipykernel_19104\\2384809776.py:1: FutureWarning: The default of observed=False is deprecated and will be changed to True in a future version of pandas. Pass observed=False to retain current behavior or observed=True to adopt the future default and silence this warning.\n",
      "  print(train_df.groupby(['Sex', 'AgeGroup'])['Survived'].mean() * 100)\n"
     ]
    }
   ],
   "source": [
    "print(train_df.groupby(['Sex', 'AgeGroup'])['Survived'].mean() * 100)"
   ]
  },
  {
   "cell_type": "markdown",
   "metadata": {},
   "source": [
    "Sex vs SibSp"
   ]
  },
  {
   "cell_type": "code",
   "execution_count": 108,
   "metadata": {},
   "outputs": [
    {
     "name": "stdout",
     "output_type": "stream",
     "text": [
      "Sex     SibSp\n",
      "female  0        78.735632\n",
      "        1        75.471698\n",
      "        2        76.923077\n",
      "        3        36.363636\n",
      "        4        33.333333\n",
      "        5         0.000000\n",
      "        8         0.000000\n",
      "male    0        16.820276\n",
      "        1        31.067961\n",
      "        2        20.000000\n",
      "        3         0.000000\n",
      "        4         8.333333\n",
      "        5         0.000000\n",
      "        8         0.000000\n",
      "Name: Survived, dtype: float64\n"
     ]
    }
   ],
   "source": [
    "print(train_df.groupby(['Sex', 'SibSp'])['Survived'].mean() * 100)"
   ]
  },
  {
   "cell_type": "markdown",
   "metadata": {},
   "source": [
    "Sex vs Parch"
   ]
  },
  {
   "cell_type": "code",
   "execution_count": 109,
   "metadata": {},
   "outputs": [
    {
     "name": "stdout",
     "output_type": "stream",
     "text": [
      "Pclass  Parch\n",
      "1       0         60.736196\n",
      "        1         67.741935\n",
      "        2         76.190476\n",
      "        4          0.000000\n",
      "2       0         35.820896\n",
      "        1         75.000000\n",
      "        2         81.250000\n",
      "        3        100.000000\n",
      "3       0         22.572178\n",
      "        1         36.363636\n",
      "        2         25.581395\n",
      "        3         33.333333\n",
      "        4          0.000000\n",
      "        5         20.000000\n",
      "        6          0.000000\n",
      "Name: Survived, dtype: float64\n"
     ]
    }
   ],
   "source": [
    "print(train_df.groupby(['Pclass', 'Parch'])['Survived'].mean() * 100)"
   ]
  },
  {
   "cell_type": "markdown",
   "metadata": {},
   "source": [
    "Sex vs Fare"
   ]
  },
  {
   "cell_type": "code",
   "execution_count": 110,
   "metadata": {},
   "outputs": [
    {
     "name": "stdout",
     "output_type": "stream",
     "text": [
      "Pclass  FareGroup\n",
      "1       <10           0.000000\n",
      "        10-20              NaN\n",
      "        20-50        47.887324\n",
      "        50-100       73.255814\n",
      "        100-250      72.727273\n",
      "        250+         77.777778\n",
      "2       <10                NaN\n",
      "        10-20        42.857143\n",
      "        20-50        58.904110\n",
      "        50-100       28.571429\n",
      "        100-250            NaN\n",
      "        250+               NaN\n",
      "3       <10          20.625000\n",
      "        10-20        41.975309\n",
      "        20-50        18.055556\n",
      "        50-100       35.714286\n",
      "        100-250            NaN\n",
      "        250+               NaN\n",
      "Name: Survived, dtype: float64\n"
     ]
    },
    {
     "name": "stderr",
     "output_type": "stream",
     "text": [
      "C:\\Users\\adi17\\AppData\\Local\\Temp\\ipykernel_19104\\2071933142.py:1: FutureWarning: The default of observed=False is deprecated and will be changed to True in a future version of pandas. Pass observed=False to retain current behavior or observed=True to adopt the future default and silence this warning.\n",
      "  print(train_df.groupby(['Pclass', 'FareGroup'])['Survived'].mean() * 100)\n"
     ]
    }
   ],
   "source": [
    "print(train_df.groupby(['Pclass', 'FareGroup'])['Survived'].mean() * 100)"
   ]
  },
  {
   "cell_type": "markdown",
   "metadata": {},
   "source": [
    "Sex vs Cabin"
   ]
  },
  {
   "cell_type": "code",
   "execution_count": null,
   "metadata": {},
   "outputs": [],
   "source": []
  }
 ],
 "metadata": {
  "kernelspec": {
   "display_name": "Python 3",
   "language": "python",
   "name": "python3"
  },
  "language_info": {
   "codemirror_mode": {
    "name": "ipython",
    "version": 3
   },
   "file_extension": ".py",
   "mimetype": "text/x-python",
   "name": "python",
   "nbconvert_exporter": "python",
   "pygments_lexer": "ipython3",
   "version": "3.10.11"
  }
 },
 "nbformat": 4,
 "nbformat_minor": 2
}
