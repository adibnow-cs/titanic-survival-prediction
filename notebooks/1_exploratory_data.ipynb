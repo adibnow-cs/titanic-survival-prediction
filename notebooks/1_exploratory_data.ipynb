{
 "cells": [
  {
   "cell_type": "code",
   "execution_count": 2,
   "metadata": {},
   "outputs": [],
   "source": [
    "import pandas as pd\n",
    "import seaborn as sns\n",
    "import matplotlib.pyplot as plt"
   ]
  },
  {
   "cell_type": "code",
   "execution_count": 4,
   "metadata": {},
   "outputs": [
    {
     "name": "stdout",
     "output_type": "stream",
     "text": [
      "   PassengerId  Survived  Pclass  \\\n",
      "0            1         0       3   \n",
      "1            2         1       1   \n",
      "2            3         1       3   \n",
      "3            4         1       1   \n",
      "4            5         0       3   \n",
      "\n",
      "                                                Name     Sex   Age  SibSp  \\\n",
      "0                            Braund, Mr. Owen Harris    male  22.0      1   \n",
      "1  Cumings, Mrs. John Bradley (Florence Briggs Th...  female  38.0      1   \n",
      "2                             Heikkinen, Miss. Laina  female  26.0      0   \n",
      "3       Futrelle, Mrs. Jacques Heath (Lily May Peel)  female  35.0      1   \n",
      "4                           Allen, Mr. William Henry    male  35.0      0   \n",
      "\n",
      "   Parch            Ticket     Fare Cabin Embarked  \n",
      "0      0         A/5 21171   7.2500   NaN        S  \n",
      "1      0          PC 17599  71.2833   C85        C  \n",
      "2      0  STON/O2. 3101282   7.9250   NaN        S  \n",
      "3      0            113803  53.1000  C123        S  \n",
      "4      0            373450   8.0500   NaN        S  \n"
     ]
    }
   ],
   "source": [
    "train_df = pd.read_csv('../data/train.csv')\n",
    "print(train_df.head())"
   ]
  },
  {
   "cell_type": "code",
   "execution_count": 5,
   "metadata": {},
   "outputs": [
    {
     "name": "stdout",
     "output_type": "stream",
     "text": [
      "Columns: Index(['PassengerId', 'Survived', 'Pclass', 'Name', 'Sex', 'Age', 'SibSp',\n",
      "       'Parch', 'Ticket', 'Fare', 'Cabin', 'Embarked'],\n",
      "      dtype='object')\n"
     ]
    }
   ],
   "source": [
    "print(\"Columns:\",train_df.columns)"
   ]
  },
  {
   "cell_type": "markdown",
   "metadata": {},
   "source": [
    "### Questions worth asking from the dataset\n",
    "\n",
    "* what do the survived passengers have in common ( specific category ) ?\n",
    "* influence of class\n",
    "* influence of sex\n",
    "* influence of age + do children with no parch still get priority and how much ?  \n",
    "* influence of sibsp , do they get more preference because its a family + parch ? or more for single individuals?\n",
    "* was there a fare below which passengers didnt survive?\n",
    "*  which embarkment had the most surivors ? "
   ]
  },
  {
   "cell_type": "markdown",
   "metadata": {},
   "source": [
    "### Some real life statistics that can help us drive to some questions \n",
    "\n",
    "\n",
    "37% – the percentage of passengers who survived.\n",
    "* we can check the number people who survived in the dataset\n",
    "* any outliers/anomalies that showcase a majority or pattern\n",
    "\n",
    "\n",
    "37% – the percentage of passengers who survived.\n",
    "* Find what is order of survival for each category such as Class ,children ,sex etc.\n",
    "* was it easier for class 2 ticketholders to escape or was their fate similar to that of class 3.\n",
    "* if survival for class 2 > class 3, how much and also find a measure to score/standardize it . \n"
   ]
  },
  {
   "cell_type": "markdown",
   "metadata": {},
   "source": [
    "### Interesting Insights to Look For\n",
    "\n",
    "Were women more likely to survive?\n",
    "\n",
    "Was survival influenced by passenger class?\n",
    "\n",
    "Did younger passengers have better survival rates?\n",
    "\n",
    "Did family size matter?\n",
    "\n",
    "Any insights from cabin/deck data?"
   ]
  },
  {
   "cell_type": "markdown",
   "metadata": {},
   "source": [
    "#### Data types and non-nulls"
   ]
  },
  {
   "cell_type": "code",
   "execution_count": 6,
   "metadata": {},
   "outputs": [
    {
     "name": "stdout",
     "output_type": "stream",
     "text": [
      "<class 'pandas.core.frame.DataFrame'>\n",
      "RangeIndex: 891 entries, 0 to 890\n",
      "Data columns (total 12 columns):\n",
      " #   Column       Non-Null Count  Dtype  \n",
      "---  ------       --------------  -----  \n",
      " 0   PassengerId  891 non-null    int64  \n",
      " 1   Survived     891 non-null    int64  \n",
      " 2   Pclass       891 non-null    int64  \n",
      " 3   Name         891 non-null    object \n",
      " 4   Sex          891 non-null    object \n",
      " 5   Age          714 non-null    float64\n",
      " 6   SibSp        891 non-null    int64  \n",
      " 7   Parch        891 non-null    int64  \n",
      " 8   Ticket       891 non-null    object \n",
      " 9   Fare         891 non-null    float64\n",
      " 10  Cabin        204 non-null    object \n",
      " 11  Embarked     889 non-null    object \n",
      "dtypes: float64(2), int64(5), object(5)\n",
      "memory usage: 83.7+ KB\n",
      "None\n"
     ]
    }
   ],
   "source": [
    "print(train_df.info())"
   ]
  },
  {
   "cell_type": "markdown",
   "metadata": {},
   "source": [
    "### Descriptions"
   ]
  },
  {
   "cell_type": "code",
   "execution_count": 7,
   "metadata": {},
   "outputs": [
    {
     "name": "stdout",
     "output_type": "stream",
     "text": [
      "       PassengerId    Survived      Pclass         Age       SibSp  \\\n",
      "count   891.000000  891.000000  891.000000  714.000000  891.000000   \n",
      "mean    446.000000    0.383838    2.308642   29.699118    0.523008   \n",
      "std     257.353842    0.486592    0.836071   14.526497    1.102743   \n",
      "min       1.000000    0.000000    1.000000    0.420000    0.000000   \n",
      "25%     223.500000    0.000000    2.000000   20.125000    0.000000   \n",
      "50%     446.000000    0.000000    3.000000   28.000000    0.000000   \n",
      "75%     668.500000    1.000000    3.000000   38.000000    1.000000   \n",
      "max     891.000000    1.000000    3.000000   80.000000    8.000000   \n",
      "\n",
      "            Parch        Fare  \n",
      "count  891.000000  891.000000  \n",
      "mean     0.381594   32.204208  \n",
      "std      0.806057   49.693429  \n",
      "min      0.000000    0.000000  \n",
      "25%      0.000000    7.910400  \n",
      "50%      0.000000   14.454200  \n",
      "75%      0.000000   31.000000  \n",
      "max      6.000000  512.329200  \n"
     ]
    }
   ],
   "source": [
    "print(train_df.describe())"
   ]
  },
  {
   "cell_type": "markdown",
   "metadata": {},
   "source": [
    "### Count of unique values"
   ]
  },
  {
   "cell_type": "code",
   "execution_count": 8,
   "metadata": {},
   "outputs": [
    {
     "name": "stdout",
     "output_type": "stream",
     "text": [
      "PassengerId    891\n",
      "Survived         2\n",
      "Pclass           3\n",
      "Name           891\n",
      "Sex              2\n",
      "Age             88\n",
      "SibSp            7\n",
      "Parch            7\n",
      "Ticket         681\n",
      "Fare           248\n",
      "Cabin          147\n",
      "Embarked         3\n",
      "dtype: int64\n"
     ]
    }
   ],
   "source": [
    "print(train_df.nunique())"
   ]
  },
  {
   "cell_type": "markdown",
   "metadata": {},
   "source": [
    "### Null values count\n"
   ]
  },
  {
   "cell_type": "code",
   "execution_count": 9,
   "metadata": {},
   "outputs": [
    {
     "name": "stdout",
     "output_type": "stream",
     "text": [
      "PassengerId      0\n",
      "Survived         0\n",
      "Pclass           0\n",
      "Name             0\n",
      "Sex              0\n",
      "Age            177\n",
      "SibSp            0\n",
      "Parch            0\n",
      "Ticket           0\n",
      "Fare             0\n",
      "Cabin          687\n",
      "Embarked         2\n",
      "dtype: int64\n"
     ]
    }
   ],
   "source": [
    "print(train_df.isnull().sum())"
   ]
  },
  {
   "cell_type": "markdown",
   "metadata": {},
   "source": [
    "## Significance of each category/feature"
   ]
  },
  {
   "cell_type": "code",
   "execution_count": 10,
   "metadata": {},
   "outputs": [
    {
     "name": "stdout",
     "output_type": "stream",
     "text": [
      "Survival Rate: 38.38%\n"
     ]
    }
   ],
   "source": [
    "survival_percentage = train_df['Survived'].mean() * 100\n",
    "print(f\"Survival Rate: {survival_percentage:.2f}%\")"
   ]
  },
  {
   "cell_type": "markdown",
   "metadata": {},
   "source": [
    "what do the survived passengers have in common ( specific category ) ?"
   ]
  },
  {
   "cell_type": "code",
   "execution_count": 11,
   "metadata": {},
   "outputs": [
    {
     "name": "stdout",
     "output_type": "stream",
     "text": [
      "   PassengerId  Survived  Pclass  \\\n",
      "1            2         1       1   \n",
      "2            3         1       3   \n",
      "3            4         1       1   \n",
      "8            9         1       3   \n",
      "9           10         1       2   \n",
      "\n",
      "                                                Name     Sex   Age  SibSp  \\\n",
      "1  Cumings, Mrs. John Bradley (Florence Briggs Th...  female  38.0      1   \n",
      "2                             Heikkinen, Miss. Laina  female  26.0      0   \n",
      "3       Futrelle, Mrs. Jacques Heath (Lily May Peel)  female  35.0      1   \n",
      "8  Johnson, Mrs. Oscar W (Elisabeth Vilhelmina Berg)  female  27.0      0   \n",
      "9                Nasser, Mrs. Nicholas (Adele Achem)  female  14.0      1   \n",
      "\n",
      "   Parch            Ticket     Fare Cabin Embarked  \n",
      "1      0          PC 17599  71.2833   C85        C  \n",
      "2      0  STON/O2. 3101282   7.9250   NaN        S  \n",
      "3      0            113803  53.1000  C123        S  \n",
      "8      2            347742  11.1333   NaN        S  \n",
      "9      0            237736  30.0708   NaN        C  \n"
     ]
    }
   ],
   "source": [
    "survived_df = train_df[train_df['Survived'] == 1]\n",
    "print(survived_df.head())"
   ]
  },
  {
   "cell_type": "markdown",
   "metadata": {},
   "source": [
    "#### Influence of Class"
   ]
  },
  {
   "cell_type": "code",
   "execution_count": 12,
   "metadata": {},
   "outputs": [
    {
     "name": "stdout",
     "output_type": "stream",
     "text": [
      "Pclass\n",
      "1    0.629630\n",
      "2    0.472826\n",
      "3    0.242363\n",
      "Name: Survived, dtype: float64\n"
     ]
    }
   ],
   "source": [
    "print(train_df.groupby('Pclass')['Survived'].mean())"
   ]
  },
  {
   "cell_type": "markdown",
   "metadata": {},
   "source": [
    "what percentage of first class passengers survived?\n",
    "* Class 1: 62.96% survived from their class"
   ]
  },
  {
   "cell_type": "markdown",
   "metadata": {},
   "source": [
    "what percentage of second class passengers survived?\n",
    "* Class 2: 47.28% survived from their class"
   ]
  },
  {
   "cell_type": "markdown",
   "metadata": {},
   "source": [
    "what percentage of third  class passengers survived?\n",
    "* Class 3: 24.24% survived from their class"
   ]
  },
  {
   "cell_type": "markdown",
   "metadata": {},
   "source": [
    "#### Influence of sex"
   ]
  },
  {
   "cell_type": "code",
   "execution_count": 13,
   "metadata": {},
   "outputs": [
    {
     "name": "stdout",
     "output_type": "stream",
     "text": [
      "Sex\n",
      "female    0.742038\n",
      "male      0.188908\n",
      "Name: Survived, dtype: float64\n"
     ]
    }
   ],
   "source": [
    "print(train_df.groupby('Sex')['Survived'].mean())"
   ]
  },
  {
   "cell_type": "markdown",
   "metadata": {},
   "source": [
    "* Female : 74.20% females survived\n",
    "* Male :  18.88% male survived"
   ]
  },
  {
   "cell_type": "markdown",
   "metadata": {},
   "source": [
    "#### Influence of age"
   ]
  },
  {
   "cell_type": "code",
   "execution_count": 14,
   "metadata": {},
   "outputs": [
    {
     "name": "stdout",
     "output_type": "stream",
     "text": [
      "AgeGroup\n",
      "Child          57.971014\n",
      "Teen           42.857143\n",
      "Young Adult    35.555556\n",
      "Adult          42.574257\n",
      "Middle-aged    40.740741\n",
      "Senior         22.727273\n",
      "Name: Survived, dtype: float64\n"
     ]
    },
    {
     "name": "stderr",
     "output_type": "stream",
     "text": [
      "C:\\Users\\adi17\\AppData\\Local\\Temp\\ipykernel_21400\\110015212.py:6: FutureWarning: The default of observed=False is deprecated and will be changed to True in a future version of pandas. Pass observed=False to retain current behavior or observed=True to adopt the future default and silence this warning.\n",
      "  agegroup_survival = train_df.groupby('AgeGroup')['Survived'].mean() * 100\n"
     ]
    }
   ],
   "source": [
    "age_bins = [0, 12, 18, 30, 45, 60, 80]\n",
    "labels = ['Child', 'Teen', 'Young Adult', 'Adult', 'Middle-aged', 'Senior']\n",
    "train_df['AgeGroup'] = pd.cut(train_df['Age'], bins=age_bins, labels=labels)\n",
    "\n",
    "# Survival rate by age group\n",
    "agegroup_survival = train_df.groupby('AgeGroup')['Survived'].mean() * 100\n",
    "print(agegroup_survival)\n",
    "\n"
   ]
  },
  {
   "cell_type": "markdown",
   "metadata": {},
   "source": [
    "#### Influence of SibSp"
   ]
  },
  {
   "cell_type": "code",
   "execution_count": 15,
   "metadata": {},
   "outputs": [
    {
     "name": "stdout",
     "output_type": "stream",
     "text": [
      "       Survival Rate  Passenger Count\n",
      "SibSp                                \n",
      "1           0.535885              209\n",
      "2           0.464286               28\n",
      "0           0.345395              608\n",
      "3           0.250000               16\n",
      "4           0.166667               18\n",
      "5           0.000000                5\n",
      "8           0.000000                7\n"
     ]
    }
   ],
   "source": [
    "sibsp_survival = train_df.groupby('SibSp')['Survived'].agg(['mean', 'count']).sort_values(by='mean', ascending=False)\n",
    "sibsp_survival.columns = ['Survival Rate', 'Passenger Count']\n",
    "print(sibsp_survival)\n"
   ]
  },
  {
   "cell_type": "markdown",
   "metadata": {},
   "source": [
    "#### Fare\n",
    "* was there a fare below which passengers didnt survive?"
   ]
  },
  {
   "cell_type": "code",
   "execution_count": 16,
   "metadata": {},
   "outputs": [
    {
     "name": "stdout",
     "output_type": "stream",
     "text": [
      "          count       mean        std  min      25%   50%   75%       max\n",
      "Survived                                                                 \n",
      "0         549.0  22.117887  31.388207  0.0   7.8542  10.5  26.0  263.0000\n",
      "1         342.0  48.395408  66.596998  0.0  12.4750  26.0  57.0  512.3292\n"
     ]
    }
   ],
   "source": [
    "print(train_df.groupby('Survived')['Fare'].describe())"
   ]
  },
  {
   "cell_type": "markdown",
   "metadata": {},
   "source": [
    "* Survivors paid more for their tickets"
   ]
  },
  {
   "cell_type": "markdown",
   "metadata": {},
   "source": [
    "The data is not proprotionate"
   ]
  },
  {
   "cell_type": "code",
   "execution_count": 17,
   "metadata": {},
   "outputs": [],
   "source": [
    "fare_bins = [0, 12, 26, 57, 512]\n",
    "fare_labels = ['0-11', '12-25', '26-56', '57-512']\n",
    "train_df['FareGroup'] = pd.cut(train_df['Fare'], bins=fare_bins, labels=fare_labels)"
   ]
  },
  {
   "cell_type": "code",
   "execution_count": 18,
   "metadata": {},
   "outputs": [
    {
     "name": "stdout",
     "output_type": "stream",
     "text": [
      "FareGroup\n",
      "0-11      22.562674\n",
      "12-25     42.792793\n",
      "26-56     47.058824\n",
      "57-512    67.213115\n",
      "Name: Survived, dtype: float64\n"
     ]
    },
    {
     "name": "stderr",
     "output_type": "stream",
     "text": [
      "C:\\Users\\adi17\\AppData\\Local\\Temp\\ipykernel_21400\\2300539164.py:1: FutureWarning: The default of observed=False is deprecated and will be changed to True in a future version of pandas. Pass observed=False to retain current behavior or observed=True to adopt the future default and silence this warning.\n",
      "  fare_group = train_df.groupby('FareGroup')['Survived'].mean() * 100\n"
     ]
    }
   ],
   "source": [
    "fare_group = train_df.groupby('FareGroup')['Survived'].mean() * 100\n",
    "print(fare_group)"
   ]
  },
  {
   "cell_type": "markdown",
   "metadata": {},
   "source": [
    "### Cabin"
   ]
  },
  {
   "cell_type": "markdown",
   "metadata": {},
   "source": [
    "Cabin had 687 missing values , but there is a possibility that it shows individuals with a cabin or not,"
   ]
  },
  {
   "cell_type": "code",
   "execution_count": 19,
   "metadata": {},
   "outputs": [
    {
     "data": {
      "text/plain": [
       "77.10437710437711"
      ]
     },
     "execution_count": 19,
     "metadata": {},
     "output_type": "execute_result"
    }
   ],
   "source": [
    "train_df['Cabin'].isnull().mean() * 100"
   ]
  },
  {
   "cell_type": "markdown",
   "metadata": {},
   "source": [
    "more than 77% of passengers dont have assigned cabin"
   ]
  },
  {
   "cell_type": "code",
   "execution_count": 20,
   "metadata": {},
   "outputs": [
    {
     "name": "stdout",
     "output_type": "stream",
     "text": [
      "HasCabin\n",
      "0    0.299854\n",
      "1    0.666667\n",
      "Name: Survived, dtype: float64\n"
     ]
    }
   ],
   "source": [
    "train_df['HasCabin'] = train_df['Cabin'].notnull().astype(int)\n",
    "print(train_df.groupby('HasCabin')['Survived'].mean())\n"
   ]
  },
  {
   "cell_type": "markdown",
   "metadata": {},
   "source": [
    "almost 69 % individuals who survived had a cabin"
   ]
  },
  {
   "cell_type": "code",
   "execution_count": 21,
   "metadata": {},
   "outputs": [
    {
     "name": "stdout",
     "output_type": "stream",
     "text": [
      "Pclass\n",
      "1     5.822416\n",
      "2    24.454148\n",
      "3    69.723435\n",
      "Name: proportion, dtype: float64\n"
     ]
    }
   ],
   "source": [
    "missing_cabin_percent = train_df[train_df['HasCabin'] == 0]['Pclass'].value_counts(normalize=True).sort_index() * 100\n",
    "print(missing_cabin_percent)\n"
   ]
  },
  {
   "cell_type": "code",
   "execution_count": 22,
   "metadata": {},
   "outputs": [],
   "source": [
    "train_df['CabinLetter'] = train_df['Cabin'].astype(str).str[0]\n"
   ]
  },
  {
   "cell_type": "code",
   "execution_count": 23,
   "metadata": {},
   "outputs": [
    {
     "name": "stdout",
     "output_type": "stream",
     "text": [
      "CabinLetter\n",
      "D    0.757576\n",
      "E    0.750000\n",
      "B    0.744681\n",
      "F    0.615385\n",
      "C    0.593220\n",
      "G    0.500000\n",
      "A    0.466667\n",
      "n    0.299854\n",
      "T    0.000000\n",
      "Name: Survived, dtype: float64\n"
     ]
    }
   ],
   "source": [
    "print(train_df.groupby('CabinLetter')['Survived'].mean().sort_values(ascending=False))\n"
   ]
  },
  {
   "cell_type": "markdown",
   "metadata": {},
   "source": [
    "#### Embarkment"
   ]
  },
  {
   "cell_type": "markdown",
   "metadata": {},
   "source": [
    "*  which embarkment had the most survivors ? "
   ]
  },
  {
   "cell_type": "code",
   "execution_count": 24,
   "metadata": {},
   "outputs": [
    {
     "name": "stdout",
     "output_type": "stream",
     "text": [
      "Embarked\n",
      "C    55.357143\n",
      "Q    38.961039\n",
      "S    33.695652\n",
      "Name: Survived, dtype: float64\n"
     ]
    }
   ],
   "source": [
    "embarkment_survival_rate = train_df.groupby('Embarked')['Survived'].mean() * 100\n",
    "print(embarkment_survival_rate.sort_values(ascending=False))\n"
   ]
  },
  {
   "cell_type": "markdown",
   "metadata": {},
   "source": [
    "### Correlation between all features"
   ]
  },
  {
   "cell_type": "code",
   "execution_count": 25,
   "metadata": {},
   "outputs": [],
   "source": [
    "numeric_df = train_df.select_dtypes(include=['int64', 'float64'])"
   ]
  },
  {
   "cell_type": "code",
   "execution_count": 26,
   "metadata": {},
   "outputs": [],
   "source": [
    "train_df['Sex_encoded'] = train_df['Sex'].map({'male': 0, 'female': 1})\n",
    "train_df['Embarked_encoded'] = train_df['Embarked'].map({'S': 0, 'C': 1, 'Q': 2})\n"
   ]
  },
  {
   "cell_type": "code",
   "execution_count": 27,
   "metadata": {},
   "outputs": [
    {
     "data": {
      "image/png": "[encoded data removed]",
      "text/plain": [
       "<Figure size 640x480 with 2 Axes>"
      ]
     },
     "metadata": {},
     "output_type": "display_data"
    }
   ],
   "source": [
    "# Then add to numeric features\n",
    "correlation_matrix = train_df[['Survived', 'Pclass', 'Age', 'SibSp', 'Parch', 'Fare', 'Sex_encoded', 'Embarked_encoded']].corr()\n",
    "\n",
    "sns.heatmap(correlation_matrix, annot=True, cmap='coolwarm', fmt=\".2f\")\n",
    "plt.title('Correlation Matrix with Encoded Features')\n",
    "plt.show()\n"
   ]
  },
  {
   "cell_type": "markdown",
   "metadata": {},
   "source": [
    "1. Sex is the most important feature: Strong correlation (0.54)\n",
    "2. Pclass matters a lot: -0.34 correlation with survival.Thus,lower class has lower survival chances.\n",
    "3. Fare is important too :  Those who paid more for their ticket had higher survival rates."
   ]
  },
  {
   "cell_type": "markdown",
   "metadata": {},
   "source": [
    "However there is a possibility that two features combined might have higher correlation"
   ]
  },
  {
   "cell_type": "markdown",
   "metadata": {},
   "source": [
    "## Significance of 2  category/features"
   ]
  },
  {
   "cell_type": "markdown",
   "metadata": {},
   "source": [
    "### Class and other features"
   ]
  },
  {
   "cell_type": "markdown",
   "metadata": {},
   "source": [
    "Class and  Sex "
   ]
  },
  {
   "cell_type": "code",
   "execution_count": 28,
   "metadata": {},
   "outputs": [
    {
     "name": "stdout",
     "output_type": "stream",
     "text": [
      "Pclass  Sex   \n",
      "1       female    96.808511\n",
      "        male      36.885246\n",
      "2       female    92.105263\n",
      "        male      15.740741\n",
      "3       female    50.000000\n",
      "        male      13.544669\n",
      "Name: Survived, dtype: float64\n"
     ]
    }
   ],
   "source": [
    "print(train_df.groupby(['Pclass', 'Sex'])['Survived'].mean() * 100)\n",
    "\n"
   ]
  },
  {
   "cell_type": "markdown",
   "metadata": {},
   "source": [
    "Class vs Age"
   ]
  },
  {
   "cell_type": "code",
   "execution_count": 29,
   "metadata": {},
   "outputs": [
    {
     "name": "stderr",
     "output_type": "stream",
     "text": [
      "C:\\Users\\adi17\\AppData\\Local\\Temp\\ipykernel_21400\\3609934545.py:1: FutureWarning: The default of observed=False is deprecated and will be changed to True in a future version of pandas. Pass observed=False to retain current behavior or observed=True to adopt the future default and silence this warning.\n",
      "  print(train_df.groupby(['Pclass', 'AgeGroup'])['Survived'].mean() * 100)\n"
     ]
    },
    {
     "name": "stdout",
     "output_type": "stream",
     "text": [
      "Pclass  AgeGroup   \n",
      "1       Child           75.000000\n",
      "        Teen            91.666667\n",
      "        Young Adult     71.111111\n",
      "        Adult           73.015873\n",
      "        Middle-aged     56.250000\n",
      "        Senior          21.428571\n",
      "2       Child          100.000000\n",
      "        Teen            50.000000\n",
      "        Young Adult     41.791045\n",
      "        Adult           46.296296\n",
      "        Middle-aged     30.000000\n",
      "        Senior          33.333333\n",
      "3       Child           41.666667\n",
      "        Teen            28.260870\n",
      "        Young Adult     22.784810\n",
      "        Adult           17.647059\n",
      "        Middle-aged      0.000000\n",
      "        Senior          20.000000\n",
      "Name: Survived, dtype: float64\n"
     ]
    }
   ],
   "source": [
    "print(train_df.groupby(['Pclass', 'AgeGroup'])['Survived'].mean() * 100)\n"
   ]
  },
  {
   "cell_type": "markdown",
   "metadata": {},
   "source": [
    "Class vs SibSp"
   ]
  },
  {
   "cell_type": "code",
   "execution_count": 30,
   "metadata": {},
   "outputs": [
    {
     "name": "stdout",
     "output_type": "stream",
     "text": [
      "Pclass  SibSp\n",
      "1       0         56.204380\n",
      "        1         74.647887\n",
      "        2         80.000000\n",
      "        3         66.666667\n",
      "2       0         41.666667\n",
      "        1         58.181818\n",
      "        2         50.000000\n",
      "        3        100.000000\n",
      "3       0         23.646724\n",
      "        1         32.530120\n",
      "        2         33.333333\n",
      "        3          8.333333\n",
      "        4         16.666667\n",
      "        5          0.000000\n",
      "        8          0.000000\n",
      "Name: Survived, dtype: float64\n"
     ]
    }
   ],
   "source": [
    "print(train_df.groupby(['Pclass', 'SibSp'])['Survived'].mean() * 100)"
   ]
  },
  {
   "cell_type": "markdown",
   "metadata": {},
   "source": [
    "Class vs Parch"
   ]
  },
  {
   "cell_type": "code",
   "execution_count": 31,
   "metadata": {},
   "outputs": [
    {
     "name": "stdout",
     "output_type": "stream",
     "text": [
      "Pclass  Parch\n",
      "1       0         60.736196\n",
      "        1         67.741935\n",
      "        2         76.190476\n",
      "        4          0.000000\n",
      "2       0         35.820896\n",
      "        1         75.000000\n",
      "        2         81.250000\n",
      "        3        100.000000\n",
      "3       0         22.572178\n",
      "        1         36.363636\n",
      "        2         25.581395\n",
      "        3         33.333333\n",
      "        4          0.000000\n",
      "        5         20.000000\n",
      "        6          0.000000\n",
      "Name: Survived, dtype: float64\n"
     ]
    }
   ],
   "source": [
    "print(train_df.groupby(['Pclass', 'Parch'])['Survived'].mean() * 100)"
   ]
  },
  {
   "cell_type": "markdown",
   "metadata": {},
   "source": [
    "Class vs Fare"
   ]
  },
  {
   "cell_type": "code",
   "execution_count": 32,
   "metadata": {},
   "outputs": [
    {
     "name": "stdout",
     "output_type": "stream",
     "text": [
      "Pclass  FareGroup\n",
      "1       0-11          0.000000\n",
      "        12-25        33.333333\n",
      "        26-56        54.838710\n",
      "        57-512       74.074074\n",
      "2       0-11         34.482759\n",
      "        12-25        49.090909\n",
      "        26-56        65.625000\n",
      "        57-512       28.571429\n",
      "3       0-11         21.580547\n",
      "        12-25        36.792453\n",
      "        26-56        17.777778\n",
      "        57-512        0.000000\n",
      "Name: Survived, dtype: float64\n"
     ]
    },
    {
     "name": "stderr",
     "output_type": "stream",
     "text": [
      "C:\\Users\\adi17\\AppData\\Local\\Temp\\ipykernel_21400\\2635981498.py:1: FutureWarning: The default of observed=False is deprecated and will be changed to True in a future version of pandas. Pass observed=False to retain current behavior or observed=True to adopt the future default and silence this warning.\n",
      "  print(train_df.groupby(['Pclass','FareGroup'])['Survived'].mean()*100)\n"
     ]
    }
   ],
   "source": [
    "print(train_df.groupby(['Pclass','FareGroup'])['Survived'].mean()*100)"
   ]
  },
  {
   "cell_type": "markdown",
   "metadata": {},
   "source": [
    "Class vs Cabin"
   ]
  },
  {
   "cell_type": "code",
   "execution_count": 33,
   "metadata": {},
   "outputs": [
    {
     "name": "stdout",
     "output_type": "stream",
     "text": [
      "Pclass  CabinLetter\n",
      "1       A               46.666667\n",
      "        B               74.468085\n",
      "        C               59.322034\n",
      "        D               75.862069\n",
      "        E               72.000000\n",
      "        T                0.000000\n",
      "        n               47.500000\n",
      "2       D               75.000000\n",
      "        E               75.000000\n",
      "        F               87.500000\n",
      "        n               44.047619\n",
      "3       E              100.000000\n",
      "        F               20.000000\n",
      "        G               50.000000\n",
      "        n               23.590814\n",
      "Name: Survived, dtype: float64\n"
     ]
    }
   ],
   "source": [
    "print(train_df.groupby(['Pclass', 'CabinLetter'])['Survived'].mean() * 100)"
   ]
  },
  {
   "cell_type": "markdown",
   "metadata": {},
   "source": [
    "Class vs Embarked"
   ]
  },
  {
   "cell_type": "code",
   "execution_count": 34,
   "metadata": {},
   "outputs": [
    {
     "name": "stdout",
     "output_type": "stream",
     "text": [
      "Pclass  Embarked\n",
      "1       C           69.411765\n",
      "        Q           50.000000\n",
      "        S           58.267717\n",
      "2       C           52.941176\n",
      "        Q           66.666667\n",
      "        S           46.341463\n",
      "3       C           37.878788\n",
      "        Q           37.500000\n",
      "        S           18.980170\n",
      "Name: Survived, dtype: float64\n"
     ]
    }
   ],
   "source": [
    "print(train_df.groupby(['Pclass', 'Embarked'])['Survived'].mean() * 100)"
   ]
  },
  {
   "cell_type": "markdown",
   "metadata": {},
   "source": [
    "### Sex and other features"
   ]
  },
  {
   "cell_type": "markdown",
   "metadata": {},
   "source": [
    "Sex v Age"
   ]
  },
  {
   "cell_type": "code",
   "execution_count": 35,
   "metadata": {},
   "outputs": [
    {
     "name": "stdout",
     "output_type": "stream",
     "text": [
      "Sex     AgeGroup   \n",
      "female  Child           59.375000\n",
      "        Teen            75.000000\n",
      "        Young Adult     75.555556\n",
      "        Adult           78.082192\n",
      "        Middle-aged     85.185185\n",
      "        Senior         100.000000\n",
      "male    Child           56.756757\n",
      "        Teen             8.823529\n",
      "        Young Adult     15.555556\n",
      "        Adult           22.480620\n",
      "        Middle-aged     18.518519\n",
      "        Senior          10.526316\n",
      "Name: Survived, dtype: float64\n"
     ]
    },
    {
     "name": "stderr",
     "output_type": "stream",
     "text": [
      "C:\\Users\\adi17\\AppData\\Local\\Temp\\ipykernel_21400\\2384809776.py:1: FutureWarning: The default of observed=False is deprecated and will be changed to True in a future version of pandas. Pass observed=False to retain current behavior or observed=True to adopt the future default and silence this warning.\n",
      "  print(train_df.groupby(['Sex', 'AgeGroup'])['Survived'].mean() * 100)\n"
     ]
    }
   ],
   "source": [
    "print(train_df.groupby(['Sex', 'AgeGroup'])['Survived'].mean() * 100)"
   ]
  },
  {
   "cell_type": "markdown",
   "metadata": {},
   "source": [
    "Sex vs SibSp"
   ]
  },
  {
   "cell_type": "code",
   "execution_count": 36,
   "metadata": {},
   "outputs": [
    {
     "name": "stdout",
     "output_type": "stream",
     "text": [
      "Sex     SibSp\n",
      "female  0        78.735632\n",
      "        1        75.471698\n",
      "        2        76.923077\n",
      "        3        36.363636\n",
      "        4        33.333333\n",
      "        5         0.000000\n",
      "        8         0.000000\n",
      "male    0        16.820276\n",
      "        1        31.067961\n",
      "        2        20.000000\n",
      "        3         0.000000\n",
      "        4         8.333333\n",
      "        5         0.000000\n",
      "        8         0.000000\n",
      "Name: Survived, dtype: float64\n"
     ]
    }
   ],
   "source": [
    "print(train_df.groupby(['Sex', 'SibSp'])['Survived'].mean() * 100)"
   ]
  },
  {
   "cell_type": "markdown",
   "metadata": {},
   "source": [
    "Sex vs Parch"
   ]
  },
  {
   "cell_type": "code",
   "execution_count": 37,
   "metadata": {},
   "outputs": [
    {
     "name": "stdout",
     "output_type": "stream",
     "text": [
      "Sex     Parch\n",
      "female  0        78.865979\n",
      "        1        76.666667\n",
      "        2        61.224490\n",
      "        3        75.000000\n",
      "        4         0.000000\n",
      "        5        25.000000\n",
      "        6         0.000000\n",
      "male    0        16.528926\n",
      "        1        32.758621\n",
      "        2        32.258065\n",
      "        3         0.000000\n",
      "        4         0.000000\n",
      "        5         0.000000\n",
      "Name: Survived, dtype: float64\n"
     ]
    }
   ],
   "source": [
    "print(train_df.groupby(['Sex', 'Parch'])['Survived'].mean() * 100)"
   ]
  },
  {
   "cell_type": "markdown",
   "metadata": {},
   "source": [
    "Sex vs Fare"
   ]
  },
  {
   "cell_type": "code",
   "execution_count": 38,
   "metadata": {},
   "outputs": [
    {
     "name": "stdout",
     "output_type": "stream",
     "text": [
      "Sex     FareGroup\n",
      "female  0-11         62.025316\n",
      "        12-25        71.153846\n",
      "        26-56        71.428571\n",
      "        57-512       93.243243\n",
      "male    0-11         11.428571\n",
      "        12-25        17.796610\n",
      "        26-56        35.087719\n",
      "        57-512       27.083333\n",
      "Name: Survived, dtype: float64\n"
     ]
    },
    {
     "name": "stderr",
     "output_type": "stream",
     "text": [
      "C:\\Users\\adi17\\AppData\\Local\\Temp\\ipykernel_21400\\1470066636.py:1: FutureWarning: The default of observed=False is deprecated and will be changed to True in a future version of pandas. Pass observed=False to retain current behavior or observed=True to adopt the future default and silence this warning.\n",
      "  print(train_df.groupby(['Sex', 'FareGroup'])['Survived'].mean() * 100)\n"
     ]
    }
   ],
   "source": [
    "print(train_df.groupby(['Sex', 'FareGroup'])['Survived'].mean() * 100)"
   ]
  },
  {
   "cell_type": "markdown",
   "metadata": {},
   "source": [
    "Sex vs Cabin"
   ]
  },
  {
   "cell_type": "code",
   "execution_count": 39,
   "metadata": {},
   "outputs": [
    {
     "name": "stdout",
     "output_type": "stream",
     "text": [
      "Sex     CabinLetter\n",
      "female  A              100.000000\n",
      "        B              100.000000\n",
      "        C               88.888889\n",
      "        D              100.000000\n",
      "        E               93.333333\n",
      "        F              100.000000\n",
      "        G               50.000000\n",
      "        n               65.437788\n",
      "male    A               42.857143\n",
      "        B               40.000000\n",
      "        C               34.375000\n",
      "        D               46.666667\n",
      "        E               58.823529\n",
      "        F               37.500000\n",
      "        T                0.000000\n",
      "        n               13.617021\n",
      "Name: Survived, dtype: float64\n"
     ]
    }
   ],
   "source": [
    "print(train_df.groupby(['Sex', 'CabinLetter'])['Survived'].mean() * 100)"
   ]
  },
  {
   "cell_type": "markdown",
   "metadata": {},
   "source": [
    "Sex vs Embarked"
   ]
  },
  {
   "cell_type": "code",
   "execution_count": 40,
   "metadata": {},
   "outputs": [
    {
     "name": "stdout",
     "output_type": "stream",
     "text": [
      "Sex     Embarked\n",
      "female  C           87.671233\n",
      "        Q           75.000000\n",
      "        S           68.965517\n",
      "male    C           30.526316\n",
      "        Q            7.317073\n",
      "        S           17.460317\n",
      "Name: Survived, dtype: float64\n"
     ]
    }
   ],
   "source": [
    "print(train_df.groupby(['Sex', 'Embarked'])['Survived'].mean() * 100)"
   ]
  },
  {
   "cell_type": "markdown",
   "metadata": {},
   "source": [
    "### Age and other features"
   ]
  },
  {
   "cell_type": "markdown",
   "metadata": {},
   "source": [
    "Age vs SibSp"
   ]
  },
  {
   "cell_type": "code",
   "execution_count": 41,
   "metadata": {},
   "outputs": [
    {
     "name": "stdout",
     "output_type": "stream",
     "text": [
      "AgeGroup     SibSp\n",
      "Child        0         82.352941\n",
      "             1         90.476190\n",
      "             2         83.333333\n",
      "             3          0.000000\n",
      "             4         13.333333\n",
      "             5          0.000000\n",
      "             8               NaN\n",
      "Teen         0         47.727273\n",
      "             1         38.888889\n",
      "             2         33.333333\n",
      "             3               NaN\n",
      "             4         33.333333\n",
      "             5          0.000000\n",
      "             8               NaN\n",
      "Young Adult  0         33.497537\n",
      "             1         41.509434\n",
      "             2         30.000000\n",
      "             3         75.000000\n",
      "             4               NaN\n",
      "             5               NaN\n",
      "             8               NaN\n",
      "Adult        0         39.552239\n",
      "             1         50.793651\n",
      "             2          0.000000\n",
      "             3        100.000000\n",
      "             4               NaN\n",
      "             5               NaN\n",
      "             8               NaN\n",
      "Middle-aged  0         27.777778\n",
      "             1         64.000000\n",
      "             2        100.000000\n",
      "             3               NaN\n",
      "             4               NaN\n",
      "             5               NaN\n",
      "             8               NaN\n",
      "Senior       0         21.052632\n",
      "             1         33.333333\n",
      "             2               NaN\n",
      "             3               NaN\n",
      "             4               NaN\n",
      "             5               NaN\n",
      "             8               NaN\n",
      "Name: Survived, dtype: float64\n"
     ]
    },
    {
     "name": "stderr",
     "output_type": "stream",
     "text": [
      "C:\\Users\\adi17\\AppData\\Local\\Temp\\ipykernel_21400\\2334809534.py:1: FutureWarning: The default of observed=False is deprecated and will be changed to True in a future version of pandas. Pass observed=False to retain current behavior or observed=True to adopt the future default and silence this warning.\n",
      "  print(train_df.groupby(['AgeGroup', 'SibSp'])['Survived'].mean() * 100)\n"
     ]
    }
   ],
   "source": [
    "print(train_df.groupby(['AgeGroup', 'SibSp'])['Survived'].mean() * 100)"
   ]
  },
  {
   "cell_type": "markdown",
   "metadata": {},
   "source": [
    "Age vs Parch"
   ]
  },
  {
   "cell_type": "code",
   "execution_count": 42,
   "metadata": {},
   "outputs": [
    {
     "name": "stdout",
     "output_type": "stream",
     "text": [
      "AgeGroup     Parch\n",
      "Child        0         66.666667\n",
      "             1         65.714286\n",
      "             2         48.387097\n",
      "             3               NaN\n",
      "             4               NaN\n",
      "             5               NaN\n",
      "             6               NaN\n",
      "Teen         0         38.297872\n",
      "             1         42.857143\n",
      "             2         75.000000\n",
      "             3          0.000000\n",
      "             4               NaN\n",
      "             5               NaN\n",
      "             6               NaN\n",
      "Young Adult  0         32.188841\n",
      "             1         47.058824\n",
      "             2         64.705882\n",
      "             3        100.000000\n",
      "             4          0.000000\n",
      "             5               NaN\n",
      "             6               NaN\n",
      "Adult        0         40.259740\n",
      "             1         56.666667\n",
      "             2         60.000000\n",
      "             3               NaN\n",
      "             4          0.000000\n",
      "             5         20.000000\n",
      "             6          0.000000\n",
      "Middle-aged  0         36.923077\n",
      "             1         58.333333\n",
      "             2         50.000000\n",
      "             3         50.000000\n",
      "             4               NaN\n",
      "             5               NaN\n",
      "             6               NaN\n",
      "Senior       0         26.315789\n",
      "             1          0.000000\n",
      "             2               NaN\n",
      "             3               NaN\n",
      "             4          0.000000\n",
      "             5               NaN\n",
      "             6               NaN\n",
      "Name: Survived, dtype: float64\n"
     ]
    },
    {
     "name": "stderr",
     "output_type": "stream",
     "text": [
      "C:\\Users\\adi17\\AppData\\Local\\Temp\\ipykernel_21400\\4104855353.py:1: FutureWarning: The default of observed=False is deprecated and will be changed to True in a future version of pandas. Pass observed=False to retain current behavior or observed=True to adopt the future default and silence this warning.\n",
      "  print(train_df.groupby(['AgeGroup','Parch'])[\"Survived\"].mean()*100)\n"
     ]
    }
   ],
   "source": [
    "print(train_df.groupby(['AgeGroup','Parch'])[\"Survived\"].mean()*100)"
   ]
  },
  {
   "cell_type": "markdown",
   "metadata": {},
   "source": [
    "Age vs Fare"
   ]
  },
  {
   "cell_type": "code",
   "execution_count": 43,
   "metadata": {},
   "outputs": [
    {
     "name": "stderr",
     "output_type": "stream",
     "text": [
      "C:\\Users\\adi17\\AppData\\Local\\Temp\\ipykernel_21400\\2550679210.py:1: FutureWarning: The default of observed=False is deprecated and will be changed to True in a future version of pandas. Pass observed=False to retain current behavior or observed=True to adopt the future default and silence this warning.\n",
      "  print(train_df.groupby([\"AgeGroup\",\"FareGroup\"])[\"Survived\"].mean()*100)\n"
     ]
    },
    {
     "name": "stdout",
     "output_type": "stream",
     "text": [
      "AgeGroup     FareGroup\n",
      "Child        0-11         80.000000\n",
      "             12-25        77.777778\n",
      "             26-56        36.363636\n",
      "             57-512       75.000000\n",
      "Teen         0-11         37.837838\n",
      "             12-25        28.571429\n",
      "             26-56        37.500000\n",
      "             57-512       81.818182\n",
      "Young Adult  0-11         21.126761\n",
      "             12-25        40.909091\n",
      "             26-56        64.285714\n",
      "             57-512       62.500000\n",
      "Adult        0-11         14.516129\n",
      "             12-25        41.818182\n",
      "             26-56        53.191489\n",
      "             57-512       83.870968\n",
      "Middle-aged  0-11         15.384615\n",
      "             12-25        26.315789\n",
      "             26-56        41.666667\n",
      "             57-512       66.666667\n",
      "Senior       0-11         25.000000\n",
      "             12-25         0.000000\n",
      "             26-56        12.500000\n",
      "             57-512       40.000000\n",
      "Name: Survived, dtype: float64\n"
     ]
    }
   ],
   "source": [
    "print(train_df.groupby([\"AgeGroup\",\"FareGroup\"])[\"Survived\"].mean()*100)"
   ]
  },
  {
   "cell_type": "markdown",
   "metadata": {},
   "source": [
    "Age vs Cabin"
   ]
  },
  {
   "cell_type": "code",
   "execution_count": 44,
   "metadata": {},
   "outputs": [
    {
     "name": "stdout",
     "output_type": "stream",
     "text": [
      "AgeGroup     CabinLetter\n",
      "Child        A              100.000000\n",
      "             B              100.000000\n",
      "             C               50.000000\n",
      "             D                     NaN\n",
      "             E              100.000000\n",
      "             F              100.000000\n",
      "             G               50.000000\n",
      "             T                     NaN\n",
      "             n               53.448276\n",
      "Teen         A                     NaN\n",
      "             B              100.000000\n",
      "             C               75.000000\n",
      "             D              100.000000\n",
      "             E              100.000000\n",
      "             F                     NaN\n",
      "             G                     NaN\n",
      "             T                     NaN\n",
      "             n               32.758621\n",
      "Young Adult  A              100.000000\n",
      "             B               83.333333\n",
      "             C               58.333333\n",
      "             D               66.666667\n",
      "             E              100.000000\n",
      "             F               50.000000\n",
      "             G               50.000000\n",
      "             T                     NaN\n",
      "             n               28.125000\n",
      "Adult        A               25.000000\n",
      "             B               75.000000\n",
      "             C               66.666667\n",
      "             D               85.714286\n",
      "             E              100.000000\n",
      "             F               33.333333\n",
      "             G                     NaN\n",
      "             T                0.000000\n",
      "             n               29.787234\n",
      "Middle-aged  A               75.000000\n",
      "             B               66.666667\n",
      "             C               53.846154\n",
      "             D               75.000000\n",
      "             E               22.222222\n",
      "             F                     NaN\n",
      "             G                     NaN\n",
      "             T                     NaN\n",
      "             n               21.621622\n",
      "Senior       A               50.000000\n",
      "             B               25.000000\n",
      "             C                0.000000\n",
      "             D               50.000000\n",
      "             E                0.000000\n",
      "             F                     NaN\n",
      "             G                     NaN\n",
      "             T                     NaN\n",
      "             n               18.181818\n",
      "Name: Survived, dtype: float64\n"
     ]
    },
    {
     "name": "stderr",
     "output_type": "stream",
     "text": [
      "C:\\Users\\adi17\\AppData\\Local\\Temp\\ipykernel_21400\\1059577933.py:1: FutureWarning: The default of observed=False is deprecated and will be changed to True in a future version of pandas. Pass observed=False to retain current behavior or observed=True to adopt the future default and silence this warning.\n",
      "  print(train_df.groupby(['AgeGroup','CabinLetter'])[\"Survived\"].mean()*100)\n"
     ]
    }
   ],
   "source": [
    "print(train_df.groupby(['AgeGroup','CabinLetter'])[\"Survived\"].mean()*100)"
   ]
  },
  {
   "cell_type": "markdown",
   "metadata": {},
   "source": [
    "Age vs Embarkment"
   ]
  },
  {
   "cell_type": "code",
   "execution_count": 45,
   "metadata": {},
   "outputs": [
    {
     "name": "stdout",
     "output_type": "stream",
     "text": [
      "AgeGroup     Embarked\n",
      "Child        C           81.818182\n",
      "             Q            0.000000\n",
      "             S           57.407407\n",
      "Teen         C           64.705882\n",
      "             Q           75.000000\n",
      "             S           32.653061\n",
      "Young Adult  C           58.695652\n",
      "             Q           50.000000\n",
      "             S           30.092593\n",
      "Adult        C           60.000000\n",
      "             Q           11.111111\n",
      "             S           40.740741\n",
      "Middle-aged  C           60.869565\n",
      "             Q            0.000000\n",
      "             S           33.333333\n",
      "Senior       C            0.000000\n",
      "             Q            0.000000\n",
      "             S           25.000000\n",
      "Name: Survived, dtype: float64\n"
     ]
    },
    {
     "name": "stderr",
     "output_type": "stream",
     "text": [
      "C:\\Users\\adi17\\AppData\\Local\\Temp\\ipykernel_21400\\2140118764.py:1: FutureWarning: The default of observed=False is deprecated and will be changed to True in a future version of pandas. Pass observed=False to retain current behavior or observed=True to adopt the future default and silence this warning.\n",
      "  print(train_df.groupby(['AgeGroup','Embarked'])[\"Survived\"].mean()*100)\n"
     ]
    }
   ],
   "source": [
    "print(train_df.groupby(['AgeGroup','Embarked'])[\"Survived\"].mean()*100)"
   ]
  },
  {
   "cell_type": "markdown",
   "metadata": {},
   "source": [
    "### SibSp and other features"
   ]
  },
  {
   "cell_type": "markdown",
   "metadata": {},
   "source": [
    "SibSp Vs  Parch"
   ]
  },
  {
   "cell_type": "code",
   "execution_count": 46,
   "metadata": {},
   "outputs": [
    {
     "name": "stdout",
     "output_type": "stream",
     "text": [
      "SibSp  Parch\n",
      "0      0         30.353818\n",
      "       1         65.789474\n",
      "       2         72.413793\n",
      "       3        100.000000\n",
      "       4          0.000000\n",
      "       5          0.000000\n",
      "1      0         52.032520\n",
      "       1         59.649123\n",
      "       2         63.157895\n",
      "       3         33.333333\n",
      "       4          0.000000\n",
      "       5         33.333333\n",
      "       6          0.000000\n",
      "2      0         25.000000\n",
      "       1         85.714286\n",
      "       2         50.000000\n",
      "       3        100.000000\n",
      "3      0        100.000000\n",
      "       1          0.000000\n",
      "       2         28.571429\n",
      "4      1          0.000000\n",
      "       2         33.333333\n",
      "5      2          0.000000\n",
      "8      2          0.000000\n",
      "Name: Survived, dtype: float64\n"
     ]
    }
   ],
   "source": [
    "print(train_df.groupby(['SibSp','Parch'])[\"Survived\"].mean()*100)"
   ]
  },
  {
   "cell_type": "markdown",
   "metadata": {},
   "source": [
    "SibSp Vs Fare"
   ]
  },
  {
   "cell_type": "code",
   "execution_count": 47,
   "metadata": {},
   "outputs": [
    {
     "name": "stderr",
     "output_type": "stream",
     "text": [
      "C:\\Users\\adi17\\AppData\\Local\\Temp\\ipykernel_21400\\1522413122.py:1: FutureWarning: The default of observed=False is deprecated and will be changed to True in a future version of pandas. Pass observed=False to retain current behavior or observed=True to adopt the future default and silence this warning.\n",
      "  print(train_df.groupby([\"SibSp\",\"FareGroup\"])[\"Survived\"].mean()*100)\n"
     ]
    },
    {
     "name": "stdout",
     "output_type": "stream",
     "text": [
      "SibSp  FareGroup\n",
      "0      0-11          22.054381\n",
      "       12-25         42.016807\n",
      "       26-56         51.724138\n",
      "       57-512        71.698113\n",
      "1      0-11          30.434783\n",
      "       12-25         44.578313\n",
      "       26-56         56.862745\n",
      "       57-512        75.000000\n",
      "2      0-11           0.000000\n",
      "       12-25         54.545455\n",
      "       26-56         66.666667\n",
      "       57-512        42.857143\n",
      "3      0-11                NaN\n",
      "       12-25         22.222222\n",
      "       26-56          0.000000\n",
      "       57-512        66.666667\n",
      "4      0-11         100.000000\n",
      "       12-25               NaN\n",
      "       26-56         11.764706\n",
      "       57-512              NaN\n",
      "5      0-11                NaN\n",
      "       12-25               NaN\n",
      "       26-56          0.000000\n",
      "       57-512              NaN\n",
      "8      0-11                NaN\n",
      "       12-25               NaN\n",
      "       26-56               NaN\n",
      "       57-512         0.000000\n",
      "Name: Survived, dtype: float64\n"
     ]
    }
   ],
   "source": [
    "print(train_df.groupby([\"SibSp\",\"FareGroup\"])[\"Survived\"].mean()*100)"
   ]
  },
  {
   "cell_type": "markdown",
   "metadata": {},
   "source": [
    "SibSp Vs Cabin"
   ]
  },
  {
   "cell_type": "code",
   "execution_count": 48,
   "metadata": {},
   "outputs": [
    {
     "name": "stderr",
     "output_type": "stream",
     "text": [
      "C:\\Users\\adi17\\AppData\\Local\\Temp\\ipykernel_21400\\2949252216.py:1: FutureWarning: The default of observed=False is deprecated and will be changed to True in a future version of pandas. Pass observed=False to retain current behavior or observed=True to adopt the future default and silence this warning.\n",
      "  print(train_df.groupby(['SibSp','FareGroup'])[\"Survived\"].mean()*100)\n"
     ]
    },
    {
     "name": "stdout",
     "output_type": "stream",
     "text": [
      "SibSp  FareGroup\n",
      "0      0-11          22.054381\n",
      "       12-25         42.016807\n",
      "       26-56         51.724138\n",
      "       57-512        71.698113\n",
      "1      0-11          30.434783\n",
      "       12-25         44.578313\n",
      "       26-56         56.862745\n",
      "       57-512        75.000000\n",
      "2      0-11           0.000000\n",
      "       12-25         54.545455\n",
      "       26-56         66.666667\n",
      "       57-512        42.857143\n",
      "3      0-11                NaN\n",
      "       12-25         22.222222\n",
      "       26-56          0.000000\n",
      "       57-512        66.666667\n",
      "4      0-11         100.000000\n",
      "       12-25               NaN\n",
      "       26-56         11.764706\n",
      "       57-512              NaN\n",
      "5      0-11                NaN\n",
      "       12-25               NaN\n",
      "       26-56          0.000000\n",
      "       57-512              NaN\n",
      "8      0-11                NaN\n",
      "       12-25               NaN\n",
      "       26-56               NaN\n",
      "       57-512         0.000000\n",
      "Name: Survived, dtype: float64\n"
     ]
    }
   ],
   "source": [
    "print(train_df.groupby(['SibSp','FareGroup'])[\"Survived\"].mean()*100)"
   ]
  },
  {
   "cell_type": "markdown",
   "metadata": {},
   "source": [
    "SibSp Vs Embarkment"
   ]
  },
  {
   "cell_type": "code",
   "execution_count": 49,
   "metadata": {},
   "outputs": [
    {
     "name": "stdout",
     "output_type": "stream",
     "text": [
      "SibSp  Embarked\n",
      "0      C           47.706422\n",
      "       Q           38.983051\n",
      "       S           30.365297\n",
      "1      C           67.924528\n",
      "       Q           45.454545\n",
      "       S           48.965517\n",
      "2      C           83.333333\n",
      "       Q           66.666667\n",
      "       S           31.578947\n",
      "3      S           25.000000\n",
      "4      Q            0.000000\n",
      "       S           21.428571\n",
      "5      S            0.000000\n",
      "8      S            0.000000\n",
      "Name: Survived, dtype: float64\n"
     ]
    }
   ],
   "source": [
    "print(train_df.groupby(['SibSp','Embarked'])[\"Survived\"].mean()*100)"
   ]
  },
  {
   "cell_type": "markdown",
   "metadata": {},
   "source": [
    "### Parch vs other features"
   ]
  },
  {
   "cell_type": "markdown",
   "metadata": {},
   "source": [
    "Parch vs Fare"
   ]
  },
  {
   "cell_type": "code",
   "execution_count": 50,
   "metadata": {},
   "outputs": [
    {
     "name": "stdout",
     "output_type": "stream",
     "text": [
      "Parch  FareGroup\n",
      "0      0-11          21.739130\n",
      "       12-25         35.333333\n",
      "       26-56         52.577320\n",
      "       57-512        73.913043\n",
      "1      0-11          36.363636\n",
      "       12-25         58.000000\n",
      "       26-56         50.000000\n",
      "       57-512        62.500000\n",
      "2      0-11          66.666667\n",
      "       12-25         55.555556\n",
      "       26-56         38.709677\n",
      "       57-512        57.142857\n",
      "3      0-11                NaN\n",
      "       12-25        100.000000\n",
      "       26-56          0.000000\n",
      "       57-512              NaN\n",
      "4      0-11                NaN\n",
      "       12-25          0.000000\n",
      "       26-56          0.000000\n",
      "       57-512         0.000000\n",
      "5      0-11                NaN\n",
      "       12-25               NaN\n",
      "       26-56         20.000000\n",
      "       57-512              NaN\n",
      "6      0-11                NaN\n",
      "       12-25               NaN\n",
      "       26-56          0.000000\n",
      "       57-512              NaN\n",
      "Name: Survived, dtype: float64\n"
     ]
    },
    {
     "name": "stderr",
     "output_type": "stream",
     "text": [
      "C:\\Users\\adi17\\AppData\\Local\\Temp\\ipykernel_21400\\1128620362.py:1: FutureWarning: The default of observed=False is deprecated and will be changed to True in a future version of pandas. Pass observed=False to retain current behavior or observed=True to adopt the future default and silence this warning.\n",
      "  print(train_df.groupby(['Parch','FareGroup'])[\"Survived\"].mean()*100)\n"
     ]
    }
   ],
   "source": [
    "print(train_df.groupby(['Parch','FareGroup'])[\"Survived\"].mean()*100)"
   ]
  },
  {
   "cell_type": "markdown",
   "metadata": {},
   "source": [
    "Parch vs Cabin "
   ]
  },
  {
   "cell_type": "code",
   "execution_count": 51,
   "metadata": {},
   "outputs": [
    {
     "name": "stdout",
     "output_type": "stream",
     "text": [
      "Parch  CabinLetter\n",
      "0      A               42.857143\n",
      "       B               67.857143\n",
      "       C               62.790698\n",
      "       D               80.000000\n",
      "       E               69.565217\n",
      "       F               42.857143\n",
      "       T                0.000000\n",
      "       n               26.443203\n",
      "1      B               72.727273\n",
      "       C               50.000000\n",
      "       D               66.666667\n",
      "       E               87.500000\n",
      "       F              100.000000\n",
      "       G               33.333333\n",
      "       n               46.835443\n",
      "2      A              100.000000\n",
      "       B              100.000000\n",
      "       C               55.555556\n",
      "       D               50.000000\n",
      "       E              100.000000\n",
      "       F                0.000000\n",
      "       G              100.000000\n",
      "       n               40.350877\n",
      "3      n               60.000000\n",
      "4      C                0.000000\n",
      "       n                0.000000\n",
      "5      n               20.000000\n",
      "6      n                0.000000\n",
      "Name: Survived, dtype: float64\n"
     ]
    }
   ],
   "source": [
    "print(train_df.groupby(['Parch','CabinLetter'])[\"Survived\"].mean()*100)"
   ]
  },
  {
   "cell_type": "markdown",
   "metadata": {},
   "source": [
    "Parch vs Embarkment"
   ]
  },
  {
   "cell_type": "code",
   "execution_count": 52,
   "metadata": {},
   "outputs": [
    {
     "name": "stdout",
     "output_type": "stream",
     "text": [
      "Parch  Embarked\n",
      "0      C            51.219512\n",
      "       Q            43.478261\n",
      "       S            28.512397\n",
      "1      C            63.333333\n",
      "       Q             0.000000\n",
      "       S            56.097561\n",
      "2      C            71.428571\n",
      "       Q             0.000000\n",
      "       S            46.153846\n",
      "3      C           100.000000\n",
      "       S            50.000000\n",
      "4      S             0.000000\n",
      "5      Q             0.000000\n",
      "       S            25.000000\n",
      "6      S             0.000000\n",
      "Name: Survived, dtype: float64\n"
     ]
    }
   ],
   "source": [
    "print(train_df.groupby(['Parch','Embarked'])[\"Survived\"].mean()*100)"
   ]
  },
  {
   "cell_type": "markdown",
   "metadata": {},
   "source": [
    "### Fare and other features"
   ]
  },
  {
   "cell_type": "markdown",
   "metadata": {},
   "source": [
    "Fare vs Cabin"
   ]
  },
  {
   "cell_type": "code",
   "execution_count": 53,
   "metadata": {},
   "outputs": [
    {
     "name": "stdout",
     "output_type": "stream",
     "text": [
      "FareGroup  CabinLetter\n",
      "0-11       A                     NaN\n",
      "           B                0.000000\n",
      "           C                     NaN\n",
      "           D                     NaN\n",
      "           E               66.666667\n",
      "           F               33.333333\n",
      "           G                0.000000\n",
      "           T                     NaN\n",
      "           n               22.190202\n",
      "12-25      A                0.000000\n",
      "           B                     NaN\n",
      "           C                     NaN\n",
      "           D               83.333333\n",
      "           E               80.000000\n",
      "           F               80.000000\n",
      "           G              100.000000\n",
      "           T                     NaN\n",
      "           n               39.408867\n",
      "26-56      A               50.000000\n",
      "           B               60.000000\n",
      "           C               54.545455\n",
      "           D               63.636364\n",
      "           E               76.470588\n",
      "           F              100.000000\n",
      "           G                     NaN\n",
      "           T                0.000000\n",
      "           n               35.789474\n",
      "57-512     A              100.000000\n",
      "           B               84.375000\n",
      "           C               62.162162\n",
      "           D               81.250000\n",
      "           E               71.428571\n",
      "           F                     NaN\n",
      "           G                     NaN\n",
      "           T                     NaN\n",
      "           n               44.827586\n",
      "Name: Survived, dtype: float64\n"
     ]
    },
    {
     "name": "stderr",
     "output_type": "stream",
     "text": [
      "C:\\Users\\adi17\\AppData\\Local\\Temp\\ipykernel_21400\\3657650687.py:1: FutureWarning: The default of observed=False is deprecated and will be changed to True in a future version of pandas. Pass observed=False to retain current behavior or observed=True to adopt the future default and silence this warning.\n",
      "  print(train_df.groupby(['FareGroup','CabinLetter'])[\"Survived\"].mean()*100)\n"
     ]
    }
   ],
   "source": [
    "print(train_df.groupby(['FareGroup','CabinLetter'])[\"Survived\"].mean()*100)"
   ]
  },
  {
   "cell_type": "markdown",
   "metadata": {},
   "source": [
    "Fare vs Embarkment"
   ]
  },
  {
   "cell_type": "code",
   "execution_count": 54,
   "metadata": {},
   "outputs": [
    {
     "name": "stdout",
     "output_type": "stream",
     "text": [
      "FareGroup  Embarked\n",
      "0-11       C           30.000000\n",
      "           Q           38.888889\n",
      "           S           18.113208\n",
      "12-25      C           51.428571\n",
      "           Q           50.000000\n",
      "           S           40.350877\n",
      "26-56      C           51.428571\n",
      "           Q            0.000000\n",
      "           S           47.692308\n",
      "57-512     C           76.363636\n",
      "           Q           50.000000\n",
      "           S           58.730159\n",
      "Name: Survived, dtype: float64\n"
     ]
    },
    {
     "name": "stderr",
     "output_type": "stream",
     "text": [
      "C:\\Users\\adi17\\AppData\\Local\\Temp\\ipykernel_21400\\476556959.py:1: FutureWarning: The default of observed=False is deprecated and will be changed to True in a future version of pandas. Pass observed=False to retain current behavior or observed=True to adopt the future default and silence this warning.\n",
      "  print(train_df.groupby(['FareGroup',\"Embarked\"])[\"Survived\"].mean()*100)\n"
     ]
    }
   ],
   "source": [
    "print(train_df.groupby(['FareGroup',\"Embarked\"])[\"Survived\"].mean()*100)"
   ]
  },
  {
   "cell_type": "markdown",
   "metadata": {},
   "source": [
    "### Cabin and other features"
   ]
  },
  {
   "cell_type": "markdown",
   "metadata": {},
   "source": [
    "Cabin vs Embarkment"
   ]
  },
  {
   "cell_type": "code",
   "execution_count": 55,
   "metadata": {},
   "outputs": [
    {
     "name": "stdout",
     "output_type": "stream",
     "text": [
      "CabinLetter  Embarked\n",
      "A            C            57.142857\n",
      "             S            37.500000\n",
      "B            C            77.272727\n",
      "             S            69.565217\n",
      "C            C            66.666667\n",
      "             Q            50.000000\n",
      "             S            55.555556\n",
      "D            C            84.615385\n",
      "             S            70.000000\n",
      "E            C           100.000000\n",
      "             Q           100.000000\n",
      "             S            69.230769\n",
      "F            C           100.000000\n",
      "             Q             0.000000\n",
      "             S            63.636364\n",
      "G            S            50.000000\n",
      "T            S             0.000000\n",
      "n            C            41.414141\n",
      "             Q            38.356164\n",
      "             S            26.601942\n",
      "Name: Survived, dtype: float64\n"
     ]
    }
   ],
   "source": [
    "print(train_df.groupby([\"CabinLetter\",\"Embarked\"])[\"Survived\"].mean()*100)"
   ]
  }
 ],
 "metadata": {
  "kernelspec": {
   "display_name": "Python 3",
   "language": "python",
   "name": "python3"
  },
  "language_info": {
   "codemirror_mode": {
    "name": "ipython",
    "version": 3
   },
   "file_extension": ".py",
   "mimetype": "text/x-python",
   "name": "python",
   "nbconvert_exporter": "python",
   "pygments_lexer": "ipython3",
   "version": "3.10.11"
  }
 },
 "nbformat": 4,
 "nbformat_minor": 2
}
